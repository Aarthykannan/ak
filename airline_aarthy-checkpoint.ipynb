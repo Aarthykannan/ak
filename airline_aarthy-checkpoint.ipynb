{
 "cells": [
  {
   "cell_type": "code",
   "execution_count": 1,
   "id": "cca91217",
   "metadata": {},
   "outputs": [],
   "source": [
    "import pandas as pd\n",
    "import numpy as np\n",
    "import matplotlib.pyplot as plt\n",
    "%matplotlib inline\n",
    "import seaborn as sns"
   ]
  },
  {
   "cell_type": "code",
   "execution_count": 2,
   "id": "221932d4",
   "metadata": {},
   "outputs": [],
   "source": [
    "data1=pd.read_excel('airports.xlsx')"
   ]
  },
  {
   "cell_type": "code",
   "execution_count": 3,
   "id": "67facf13",
   "metadata": {},
   "outputs": [],
   "source": [
    "data2=pd.read_excel('runways.xlsx')"
   ]
  },
  {
   "cell_type": "code",
   "execution_count": 4,
   "id": "c63316d8",
   "metadata": {},
   "outputs": [
    {
     "data": {
      "text/html": [
       "<div>\n",
       "<style scoped>\n",
       "    .dataframe tbody tr th:only-of-type {\n",
       "        vertical-align: middle;\n",
       "    }\n",
       "\n",
       "    .dataframe tbody tr th {\n",
       "        vertical-align: top;\n",
       "    }\n",
       "\n",
       "    .dataframe thead th {\n",
       "        text-align: right;\n",
       "    }\n",
       "</style>\n",
       "<table border=\"1\" class=\"dataframe\">\n",
       "  <thead>\n",
       "    <tr style=\"text-align: right;\">\n",
       "      <th></th>\n",
       "      <th>id</th>\n",
       "      <th>ident</th>\n",
       "      <th>type</th>\n",
       "      <th>name</th>\n",
       "      <th>latitude_deg</th>\n",
       "      <th>longitude_deg</th>\n",
       "      <th>elevation_ft</th>\n",
       "      <th>continent</th>\n",
       "      <th>iso_country</th>\n",
       "      <th>iso_region</th>\n",
       "      <th>municipality</th>\n",
       "      <th>scheduled_service</th>\n",
       "      <th>gps_code</th>\n",
       "      <th>iata_code</th>\n",
       "      <th>local_code</th>\n",
       "      <th>home_link</th>\n",
       "      <th>wikipedia_link</th>\n",
       "      <th>keywords</th>\n",
       "    </tr>\n",
       "  </thead>\n",
       "  <tbody>\n",
       "    <tr>\n",
       "      <th>0</th>\n",
       "      <td>6523</td>\n",
       "      <td>00A</td>\n",
       "      <td>heliport</td>\n",
       "      <td>Total Rf Heliport</td>\n",
       "      <td>40.070801</td>\n",
       "      <td>-74.933601</td>\n",
       "      <td>11.0</td>\n",
       "      <td>NaN</td>\n",
       "      <td>US</td>\n",
       "      <td>US-PA</td>\n",
       "      <td>Bensalem</td>\n",
       "      <td>no</td>\n",
       "      <td>00A</td>\n",
       "      <td>NaN</td>\n",
       "      <td>00A</td>\n",
       "      <td>NaN</td>\n",
       "      <td>NaN</td>\n",
       "      <td>NaN</td>\n",
       "    </tr>\n",
       "    <tr>\n",
       "      <th>1</th>\n",
       "      <td>323361</td>\n",
       "      <td>00AA</td>\n",
       "      <td>small_airport</td>\n",
       "      <td>Aero B Ranch Airport</td>\n",
       "      <td>38.704022</td>\n",
       "      <td>-101.473911</td>\n",
       "      <td>3435.0</td>\n",
       "      <td>NaN</td>\n",
       "      <td>US</td>\n",
       "      <td>US-KS</td>\n",
       "      <td>Leoti</td>\n",
       "      <td>no</td>\n",
       "      <td>00AA</td>\n",
       "      <td>NaN</td>\n",
       "      <td>00AA</td>\n",
       "      <td>NaN</td>\n",
       "      <td>NaN</td>\n",
       "      <td>NaN</td>\n",
       "    </tr>\n",
       "  </tbody>\n",
       "</table>\n",
       "</div>"
      ],
      "text/plain": [
       "       id ident           type                  name  latitude_deg  \\\n",
       "0    6523   00A       heliport     Total Rf Heliport     40.070801   \n",
       "1  323361  00AA  small_airport  Aero B Ranch Airport     38.704022   \n",
       "\n",
       "   longitude_deg  elevation_ft continent iso_country iso_region municipality  \\\n",
       "0     -74.933601          11.0       NaN          US      US-PA     Bensalem   \n",
       "1    -101.473911        3435.0       NaN          US      US-KS        Leoti   \n",
       "\n",
       "  scheduled_service gps_code iata_code local_code home_link wikipedia_link  \\\n",
       "0                no      00A       NaN        00A       NaN            NaN   \n",
       "1                no     00AA       NaN       00AA       NaN            NaN   \n",
       "\n",
       "  keywords  \n",
       "0      NaN  \n",
       "1      NaN  "
      ]
     },
     "execution_count": 4,
     "metadata": {},
     "output_type": "execute_result"
    }
   ],
   "source": [
    "data1.head(2)"
   ]
  },
  {
   "cell_type": "code",
   "execution_count": 5,
   "id": "425571e5",
   "metadata": {},
   "outputs": [
    {
     "data": {
      "text/plain": [
       "(73805, 18)"
      ]
     },
     "execution_count": 5,
     "metadata": {},
     "output_type": "execute_result"
    }
   ],
   "source": [
    "data1.shape"
   ]
  },
  {
   "cell_type": "code",
   "execution_count": 6,
   "id": "57f838a7",
   "metadata": {},
   "outputs": [
    {
     "data": {
      "text/html": [
       "<div>\n",
       "<style scoped>\n",
       "    .dataframe tbody tr th:only-of-type {\n",
       "        vertical-align: middle;\n",
       "    }\n",
       "\n",
       "    .dataframe tbody tr th {\n",
       "        vertical-align: top;\n",
       "    }\n",
       "\n",
       "    .dataframe thead th {\n",
       "        text-align: right;\n",
       "    }\n",
       "</style>\n",
       "<table border=\"1\" class=\"dataframe\">\n",
       "  <thead>\n",
       "    <tr style=\"text-align: right;\">\n",
       "      <th></th>\n",
       "      <th>id</th>\n",
       "      <th>airport_ref</th>\n",
       "      <th>airport_ident</th>\n",
       "      <th>length_ft</th>\n",
       "      <th>width_ft</th>\n",
       "      <th>surface</th>\n",
       "      <th>lighted</th>\n",
       "      <th>closed</th>\n",
       "      <th>le_ident</th>\n",
       "      <th>le_latitude_deg</th>\n",
       "      <th>le_longitude_deg</th>\n",
       "      <th>le_elevation_ft</th>\n",
       "      <th>le_heading_degT</th>\n",
       "      <th>le_displaced_threshold_ft</th>\n",
       "      <th>he_ident</th>\n",
       "      <th>he_latitude_deg</th>\n",
       "      <th>he_longitude_deg</th>\n",
       "      <th>he_elevation_ft</th>\n",
       "      <th>he_heading_degT</th>\n",
       "      <th>he_displaced_threshold_ft</th>\n",
       "    </tr>\n",
       "  </thead>\n",
       "  <tbody>\n",
       "    <tr>\n",
       "      <th>0</th>\n",
       "      <td>269408</td>\n",
       "      <td>6523</td>\n",
       "      <td>00A</td>\n",
       "      <td>80.0</td>\n",
       "      <td>80.0</td>\n",
       "      <td>ASPH-G</td>\n",
       "      <td>1</td>\n",
       "      <td>0</td>\n",
       "      <td>H1</td>\n",
       "      <td>NaN</td>\n",
       "      <td>NaN</td>\n",
       "      <td>NaN</td>\n",
       "      <td>NaN</td>\n",
       "      <td>NaN</td>\n",
       "      <td>NaN</td>\n",
       "      <td>NaN</td>\n",
       "      <td>NaN</td>\n",
       "      <td>NaN</td>\n",
       "      <td>NaN</td>\n",
       "      <td>NaN</td>\n",
       "    </tr>\n",
       "    <tr>\n",
       "      <th>1</th>\n",
       "      <td>255155</td>\n",
       "      <td>6524</td>\n",
       "      <td>00AK</td>\n",
       "      <td>2500.0</td>\n",
       "      <td>70.0</td>\n",
       "      <td>GRVL</td>\n",
       "      <td>0</td>\n",
       "      <td>0</td>\n",
       "      <td>N</td>\n",
       "      <td>NaN</td>\n",
       "      <td>NaN</td>\n",
       "      <td>NaN</td>\n",
       "      <td>NaN</td>\n",
       "      <td>NaN</td>\n",
       "      <td>S</td>\n",
       "      <td>NaN</td>\n",
       "      <td>NaN</td>\n",
       "      <td>NaN</td>\n",
       "      <td>NaN</td>\n",
       "      <td>NaN</td>\n",
       "    </tr>\n",
       "  </tbody>\n",
       "</table>\n",
       "</div>"
      ],
      "text/plain": [
       "       id  airport_ref airport_ident  length_ft  width_ft surface  lighted  \\\n",
       "0  269408         6523           00A       80.0      80.0  ASPH-G        1   \n",
       "1  255155         6524          00AK     2500.0      70.0    GRVL        0   \n",
       "\n",
       "   closed le_ident  le_latitude_deg  le_longitude_deg  le_elevation_ft  \\\n",
       "0       0       H1              NaN               NaN              NaN   \n",
       "1       0        N              NaN               NaN              NaN   \n",
       "\n",
       "   le_heading_degT  le_displaced_threshold_ft he_ident  he_latitude_deg  \\\n",
       "0              NaN                        NaN      NaN              NaN   \n",
       "1              NaN                        NaN        S              NaN   \n",
       "\n",
       "   he_longitude_deg  he_elevation_ft  he_heading_degT  \\\n",
       "0               NaN              NaN              NaN   \n",
       "1               NaN              NaN              NaN   \n",
       "\n",
       "   he_displaced_threshold_ft  \n",
       "0                        NaN  \n",
       "1                        NaN  "
      ]
     },
     "execution_count": 6,
     "metadata": {},
     "output_type": "execute_result"
    }
   ],
   "source": [
    "data2.head(2)"
   ]
  },
  {
   "cell_type": "code",
   "execution_count": 7,
   "id": "3bd9044b",
   "metadata": {},
   "outputs": [
    {
     "data": {
      "text/plain": [
       "(43977, 20)"
      ]
     },
     "execution_count": 7,
     "metadata": {},
     "output_type": "execute_result"
    }
   ],
   "source": [
    "data2.shape"
   ]
  },
  {
   "cell_type": "markdown",
   "id": "4944aa04",
   "metadata": {},
   "source": [
    "## 1.Import and aggregate data:\n",
    "a. Collect information related to flights, airports (e.g., type of airport and elevation), and runways \n",
    "(e.g., length_ft, width_ft, surface, and number of runways). Gather all fields you believe might cause \n",
    "avoidable delays in one dataset."
   ]
  },
  {
   "cell_type": "code",
   "execution_count": 8,
   "id": "4c665542",
   "metadata": {},
   "outputs": [],
   "source": [
    "df=pd.merge(data1,data2,left_on='id',right_on='airport_ref')  # key from 2 dataframe."
   ]
  },
  {
   "cell_type": "code",
   "execution_count": 9,
   "id": "4503278b",
   "metadata": {},
   "outputs": [
    {
     "data": {
      "text/html": [
       "<div>\n",
       "<style scoped>\n",
       "    .dataframe tbody tr th:only-of-type {\n",
       "        vertical-align: middle;\n",
       "    }\n",
       "\n",
       "    .dataframe tbody tr th {\n",
       "        vertical-align: top;\n",
       "    }\n",
       "\n",
       "    .dataframe thead th {\n",
       "        text-align: right;\n",
       "    }\n",
       "</style>\n",
       "<table border=\"1\" class=\"dataframe\">\n",
       "  <thead>\n",
       "    <tr style=\"text-align: right;\">\n",
       "      <th></th>\n",
       "      <th>id_x</th>\n",
       "      <th>ident</th>\n",
       "      <th>type</th>\n",
       "      <th>name</th>\n",
       "      <th>latitude_deg</th>\n",
       "      <th>longitude_deg</th>\n",
       "      <th>elevation_ft</th>\n",
       "      <th>continent</th>\n",
       "      <th>iso_country</th>\n",
       "      <th>iso_region</th>\n",
       "      <th>...</th>\n",
       "      <th>le_longitude_deg</th>\n",
       "      <th>le_elevation_ft</th>\n",
       "      <th>le_heading_degT</th>\n",
       "      <th>le_displaced_threshold_ft</th>\n",
       "      <th>he_ident</th>\n",
       "      <th>he_latitude_deg</th>\n",
       "      <th>he_longitude_deg</th>\n",
       "      <th>he_elevation_ft</th>\n",
       "      <th>he_heading_degT</th>\n",
       "      <th>he_displaced_threshold_ft</th>\n",
       "    </tr>\n",
       "  </thead>\n",
       "  <tbody>\n",
       "    <tr>\n",
       "      <th>0</th>\n",
       "      <td>6523</td>\n",
       "      <td>00A</td>\n",
       "      <td>heliport</td>\n",
       "      <td>Total Rf Heliport</td>\n",
       "      <td>40.070801</td>\n",
       "      <td>-74.933601</td>\n",
       "      <td>11.0</td>\n",
       "      <td>NaN</td>\n",
       "      <td>US</td>\n",
       "      <td>US-PA</td>\n",
       "      <td>...</td>\n",
       "      <td>NaN</td>\n",
       "      <td>NaN</td>\n",
       "      <td>NaN</td>\n",
       "      <td>NaN</td>\n",
       "      <td>NaN</td>\n",
       "      <td>NaN</td>\n",
       "      <td>NaN</td>\n",
       "      <td>NaN</td>\n",
       "      <td>NaN</td>\n",
       "      <td>NaN</td>\n",
       "    </tr>\n",
       "    <tr>\n",
       "      <th>1</th>\n",
       "      <td>6524</td>\n",
       "      <td>00AK</td>\n",
       "      <td>small_airport</td>\n",
       "      <td>Lowell Field</td>\n",
       "      <td>59.947733</td>\n",
       "      <td>-151.692524</td>\n",
       "      <td>450.0</td>\n",
       "      <td>NaN</td>\n",
       "      <td>US</td>\n",
       "      <td>US-AK</td>\n",
       "      <td>...</td>\n",
       "      <td>NaN</td>\n",
       "      <td>NaN</td>\n",
       "      <td>NaN</td>\n",
       "      <td>NaN</td>\n",
       "      <td>S</td>\n",
       "      <td>NaN</td>\n",
       "      <td>NaN</td>\n",
       "      <td>NaN</td>\n",
       "      <td>NaN</td>\n",
       "      <td>NaN</td>\n",
       "    </tr>\n",
       "  </tbody>\n",
       "</table>\n",
       "<p>2 rows × 38 columns</p>\n",
       "</div>"
      ],
      "text/plain": [
       "   id_x ident           type               name  latitude_deg  longitude_deg  \\\n",
       "0  6523   00A       heliport  Total Rf Heliport     40.070801     -74.933601   \n",
       "1  6524  00AK  small_airport       Lowell Field     59.947733    -151.692524   \n",
       "\n",
       "   elevation_ft continent iso_country iso_region  ... le_longitude_deg  \\\n",
       "0          11.0       NaN          US      US-PA  ...              NaN   \n",
       "1         450.0       NaN          US      US-AK  ...              NaN   \n",
       "\n",
       "  le_elevation_ft le_heading_degT le_displaced_threshold_ft he_ident  \\\n",
       "0             NaN             NaN                       NaN      NaN   \n",
       "1             NaN             NaN                       NaN        S   \n",
       "\n",
       "  he_latitude_deg he_longitude_deg he_elevation_ft  he_heading_degT  \\\n",
       "0             NaN              NaN             NaN              NaN   \n",
       "1             NaN              NaN             NaN              NaN   \n",
       "\n",
       "   he_displaced_threshold_ft  \n",
       "0                        NaN  \n",
       "1                        NaN  \n",
       "\n",
       "[2 rows x 38 columns]"
      ]
     },
     "execution_count": 9,
     "metadata": {},
     "output_type": "execute_result"
    }
   ],
   "source": [
    "df.head(2)"
   ]
  },
  {
   "cell_type": "code",
   "execution_count": 10,
   "id": "6405d604",
   "metadata": {},
   "outputs": [
    {
     "data": {
      "text/plain": [
       "(43977, 38)"
      ]
     },
     "execution_count": 10,
     "metadata": {},
     "output_type": "execute_result"
    }
   ],
   "source": [
    "df.shape"
   ]
  },
  {
   "cell_type": "code",
   "execution_count": null,
   "id": "93f30444",
   "metadata": {},
   "outputs": [],
   "source": []
  },
  {
   "cell_type": "markdown",
   "id": "8eab21a7",
   "metadata": {},
   "source": [
    "### b.When it comes to on-time arrivals, different airlines perform differently based on the amount of experience they have. The major airlines in this field include US Airways Express (founded in 1967) Continental Airlines (founded in 1934), and Express Jet (founded in 19860. Pull such information specific to various airlines from the Wikipedia page link given below.\n",
    "https://en.wikipedia.org/wiki/List_of_airlines_of_the_United_States. \n",
    "Hint: Here, you should use web scraping to learn how long an airline has been operating.\n"
   ]
  },
  {
   "cell_type": "code",
   "execution_count": 11,
   "id": "16c5cc17",
   "metadata": {},
   "outputs": [],
   "source": [
    "from bs4 import BeautifulSoup\n",
    "import requests"
   ]
  },
  {
   "cell_type": "code",
   "execution_count": 12,
   "id": "1450b259",
   "metadata": {},
   "outputs": [],
   "source": [
    "url='https://en.wikipedia.org/wiki/List_of_airlines_of_the_United_States'\n",
    "req=requests.get(url)"
   ]
  },
  {
   "cell_type": "code",
   "execution_count": 13,
   "id": "00e9edb0",
   "metadata": {},
   "outputs": [],
   "source": [
    "soup=BeautifulSoup(req.content,'html.parser')"
   ]
  },
  {
   "cell_type": "code",
   "execution_count": 14,
   "id": "6d134d10",
   "metadata": {},
   "outputs": [],
   "source": [
    "tablea=soup.find(name='Mainline')"
   ]
  },
  {
   "cell_type": "code",
   "execution_count": 15,
   "id": "b324a760",
   "metadata": {},
   "outputs": [
    {
     "name": "stdout",
     "output_type": "stream",
     "text": [
      "Requirement already satisfied: lxml in c:\\users\\sutharsan\\anaconda3\\lib\\site-packages (4.8.0)\n",
      "Requirement already satisfied: html5lib in c:\\users\\sutharsan\\anaconda3\\lib\\site-packages (1.1)\n",
      "Requirement already satisfied: beautifulsoup4 in c:\\users\\sutharsan\\anaconda3\\lib\\site-packages (4.10.0)\n",
      "Requirement already satisfied: six>=1.9 in c:\\users\\sutharsan\\anaconda3\\lib\\site-packages (from html5lib) (1.16.0)\n",
      "Requirement already satisfied: webencodings in c:\\users\\sutharsan\\anaconda3\\lib\\site-packages (from html5lib) (0.5.1)\n",
      "Requirement already satisfied: soupsieve>1.2 in c:\\users\\sutharsan\\anaconda3\\lib\\site-packages (from beautifulsoup4) (2.3.1)\n",
      "Note: you may need to restart the kernel to use updated packages.\n"
     ]
    }
   ],
   "source": [
    "pip install lxml html5lib beautifulsoup4"
   ]
  },
  {
   "cell_type": "code",
   "execution_count": 16,
   "id": "d60c4481",
   "metadata": {},
   "outputs": [],
   "source": [
    "df2=pd.read_html(url)"
   ]
  },
  {
   "cell_type": "code",
   "execution_count": 17,
   "id": "06015be3",
   "metadata": {},
   "outputs": [],
   "source": [
    "web=df2[0]"
   ]
  },
  {
   "cell_type": "code",
   "execution_count": 18,
   "id": "7b5a2493",
   "metadata": {},
   "outputs": [
    {
     "data": {
      "text/html": [
       "<div>\n",
       "<style scoped>\n",
       "    .dataframe tbody tr th:only-of-type {\n",
       "        vertical-align: middle;\n",
       "    }\n",
       "\n",
       "    .dataframe tbody tr th {\n",
       "        vertical-align: top;\n",
       "    }\n",
       "\n",
       "    .dataframe thead th {\n",
       "        text-align: right;\n",
       "    }\n",
       "</style>\n",
       "<table border=\"1\" class=\"dataframe\">\n",
       "  <thead>\n",
       "    <tr style=\"text-align: right;\">\n",
       "      <th></th>\n",
       "      <th>Airline</th>\n",
       "      <th>Founded</th>\n",
       "    </tr>\n",
       "  </thead>\n",
       "  <tbody>\n",
       "    <tr>\n",
       "      <th>0</th>\n",
       "      <td>Alaska Airlines</td>\n",
       "      <td>1932</td>\n",
       "    </tr>\n",
       "    <tr>\n",
       "      <th>1</th>\n",
       "      <td>Allegiant Air</td>\n",
       "      <td>1997</td>\n",
       "    </tr>\n",
       "    <tr>\n",
       "      <th>2</th>\n",
       "      <td>American Airlines</td>\n",
       "      <td>1926</td>\n",
       "    </tr>\n",
       "    <tr>\n",
       "      <th>3</th>\n",
       "      <td>Avelo Airlines</td>\n",
       "      <td>1987</td>\n",
       "    </tr>\n",
       "    <tr>\n",
       "      <th>4</th>\n",
       "      <td>Breeze Airways</td>\n",
       "      <td>2018</td>\n",
       "    </tr>\n",
       "  </tbody>\n",
       "</table>\n",
       "</div>"
      ],
      "text/plain": [
       "             Airline  Founded\n",
       "0    Alaska Airlines     1932\n",
       "1      Allegiant Air     1997\n",
       "2  American Airlines     1926\n",
       "3     Avelo Airlines     1987\n",
       "4     Breeze Airways     2018"
      ]
     },
     "execution_count": 18,
     "metadata": {},
     "output_type": "execute_result"
    }
   ],
   "source": [
    "web1=web[['Airline','Founded']]\n",
    "web1.head()"
   ]
  },
  {
   "cell_type": "markdown",
   "id": "82d2697f",
   "metadata": {},
   "source": [
    "### d.The total passenger traffic may also contribute to flight delays. The term hub refers to busy commercial airports. Large hubs are airports that account for at least 1 percent of the total passenger enplanements in the United States. Airports that account for 0.25 percent to 1 percent of total passenger enplanements are considered medium hubs. Pull passenger traffic data from the Wikipedia page given below using web scraping and collate it in a table"
   ]
  },
  {
   "cell_type": "code",
   "execution_count": 19,
   "id": "7d91981c",
   "metadata": {},
   "outputs": [],
   "source": [
    "url1='https://en.wikipedia.org/wiki/List_of_the_busiest_airports_in_the_United_States'\n",
    "req1=requests.get(url1)"
   ]
  },
  {
   "cell_type": "code",
   "execution_count": 20,
   "id": "9e5c6fb6",
   "metadata": {},
   "outputs": [],
   "source": [
    "soup1=BeautifulSoup(req1.content,'html.parser')"
   ]
  },
  {
   "cell_type": "code",
   "execution_count": 21,
   "id": "966a30cd",
   "metadata": {},
   "outputs": [],
   "source": [
    "df3=pd.read_html(url1)"
   ]
  },
  {
   "cell_type": "code",
   "execution_count": 22,
   "id": "26c466b8",
   "metadata": {
    "scrolled": true
   },
   "outputs": [
    {
     "data": {
      "text/plain": [
       "array(['ATL', 'DFW', 'DEN', 'ORD', 'LAX', 'CLT', 'MCO', 'LAS', 'PHX',\n",
       "       'MIA', 'SEA', 'IAH', 'JFK', 'EWR', 'FLL', 'MSP', 'SFO', 'DTW',\n",
       "       'BOS', 'SLC', 'PHL', 'BWI', 'TPA', 'SAN', 'LGA', 'MDW', 'BNA',\n",
       "       'IAD', 'DCA', 'AUS'], dtype=object)"
      ]
     },
     "execution_count": 22,
     "metadata": {},
     "output_type": "execute_result"
    }
   ],
   "source": [
    "large=df3[0]\n",
    "large.head(2)\n",
    "hub1=large['IATACode']\n",
    "hub1.ravel()\n",
    "#hub1=['ATL', 'DFW', 'DEN', 'ORD', 'LAX', 'CLT', 'MCO', 'LAS', 'PHX',\n",
    " #'MIA', 'SEA', 'IAH', 'JFK', 'EWR', 'FLL', 'MSP', 'SFO', 'DTW',\n",
    "  #     'BOS', 'SLC', 'PHL', 'BWI', 'TPA', 'SAN', 'LGA', 'MDW', 'BNA',\n",
    "   #    'IAD', 'DCA', 'AUS']"
   ]
  },
  {
   "cell_type": "code",
   "execution_count": 23,
   "id": "9afe0b57",
   "metadata": {},
   "outputs": [
    {
     "data": {
      "text/html": [
       "<div>\n",
       "<style scoped>\n",
       "    .dataframe tbody tr th:only-of-type {\n",
       "        vertical-align: middle;\n",
       "    }\n",
       "\n",
       "    .dataframe tbody tr th {\n",
       "        vertical-align: top;\n",
       "    }\n",
       "\n",
       "    .dataframe thead th {\n",
       "        text-align: right;\n",
       "    }\n",
       "</style>\n",
       "<table border=\"1\" class=\"dataframe\">\n",
       "  <thead>\n",
       "    <tr style=\"text-align: right;\">\n",
       "      <th></th>\n",
       "      <th>Rank(2021)</th>\n",
       "      <th>Airports (medium hubs)</th>\n",
       "      <th>IATACode</th>\n",
       "      <th>City served</th>\n",
       "      <th>State</th>\n",
       "      <th>2021[3]</th>\n",
       "      <th>2020[4]</th>\n",
       "      <th>2019[5]</th>\n",
       "      <th>2018[6]</th>\n",
       "      <th>2017[7]</th>\n",
       "      <th>2016[8]</th>\n",
       "      <th>2015[9]</th>\n",
       "      <th>2014[10]</th>\n",
       "      <th>2013[11]</th>\n",
       "      <th>2012[12]</th>\n",
       "    </tr>\n",
       "  </thead>\n",
       "  <tbody>\n",
       "    <tr>\n",
       "      <th>0</th>\n",
       "      <td>31</td>\n",
       "      <td>Dallas Love Field</td>\n",
       "      <td>DAL</td>\n",
       "      <td>Dallas</td>\n",
       "      <td>TX</td>\n",
       "      <td>6487563</td>\n",
       "      <td>3669930</td>\n",
       "      <td>8408457</td>\n",
       "      <td>8134848</td>\n",
       "      <td>7876769</td>\n",
       "      <td>7554596</td>\n",
       "      <td>7040921</td>\n",
       "      <td>4522341</td>\n",
       "      <td>4023779</td>\n",
       "      <td>3902628</td>\n",
       "    </tr>\n",
       "    <tr>\n",
       "      <th>1</th>\n",
       "      <td>32</td>\n",
       "      <td>Daniel K. Inouye International Airport</td>\n",
       "      <td>HNL</td>\n",
       "      <td>Honolulu</td>\n",
       "      <td>HI</td>\n",
       "      <td>5830928</td>\n",
       "      <td>3126391</td>\n",
       "      <td>9988678</td>\n",
       "      <td>9578505</td>\n",
       "      <td>9743989</td>\n",
       "      <td>9656340</td>\n",
       "      <td>9656340</td>\n",
       "      <td>9463000</td>\n",
       "      <td>9466995</td>\n",
       "      <td>9225848</td>\n",
       "    </tr>\n",
       "  </tbody>\n",
       "</table>\n",
       "</div>"
      ],
      "text/plain": [
       "   Rank(2021)                  Airports (medium hubs) IATACode City served  \\\n",
       "0          31                       Dallas Love Field      DAL      Dallas   \n",
       "1          32  Daniel K. Inouye International Airport      HNL    Honolulu   \n",
       "\n",
       "  State  2021[3]  2020[4]  2019[5]  2018[6]  2017[7]  2016[8]  2015[9]  \\\n",
       "0    TX  6487563  3669930  8408457  8134848  7876769  7554596  7040921   \n",
       "1    HI  5830928  3126391  9988678  9578505  9743989  9656340  9656340   \n",
       "\n",
       "   2014[10]  2013[11]  2012[12]  \n",
       "0   4522341   4023779   3902628  \n",
       "1   9463000   9466995   9225848  "
      ]
     },
     "execution_count": 23,
     "metadata": {},
     "output_type": "execute_result"
    }
   ],
   "source": [
    "medium=df3[1]\n",
    "medium.head(2)\n"
   ]
  },
  {
   "cell_type": "code",
   "execution_count": 24,
   "id": "4353a27b",
   "metadata": {},
   "outputs": [
    {
     "data": {
      "text/html": [
       "<div>\n",
       "<style scoped>\n",
       "    .dataframe tbody tr th:only-of-type {\n",
       "        vertical-align: middle;\n",
       "    }\n",
       "\n",
       "    .dataframe tbody tr th {\n",
       "        vertical-align: top;\n",
       "    }\n",
       "\n",
       "    .dataframe thead tr th {\n",
       "        text-align: left;\n",
       "    }\n",
       "</style>\n",
       "<table border=\"1\" class=\"dataframe\">\n",
       "  <thead>\n",
       "    <tr>\n",
       "      <th></th>\n",
       "      <th>Rank</th>\n",
       "      <th>Rank change</th>\n",
       "      <th>Airport name</th>\n",
       "      <th>Location</th>\n",
       "      <th>IATA Code</th>\n",
       "      <th colspan=\"2\" halign=\"left\">Traffic</th>\n",
       "      <th colspan=\"2\" halign=\"left\">Aircraft</th>\n",
       "    </tr>\n",
       "    <tr>\n",
       "      <th></th>\n",
       "      <th>Rank</th>\n",
       "      <th>Rank change</th>\n",
       "      <th>Airport name</th>\n",
       "      <th>Location</th>\n",
       "      <th>IATA Code</th>\n",
       "      <th>Passengers</th>\n",
       "      <th>% chg.2019/20</th>\n",
       "      <th>Movements</th>\n",
       "      <th>% chg.2019/20</th>\n",
       "    </tr>\n",
       "  </thead>\n",
       "  <tbody>\n",
       "    <tr>\n",
       "      <th>0</th>\n",
       "      <td>1</td>\n",
       "      <td>NaN</td>\n",
       "      <td>Hartsfield–Jackson Atlanta International Airport</td>\n",
       "      <td>College Park, Georgia</td>\n",
       "      <td>ATL</td>\n",
       "      <td>42918685</td>\n",
       "      <td>61.2</td>\n",
       "      <td>NaN</td>\n",
       "      <td>0.0</td>\n",
       "    </tr>\n",
       "    <tr>\n",
       "      <th>1</th>\n",
       "      <td>2</td>\n",
       "      <td>2.0</td>\n",
       "      <td>Dallas/Fort Worth International Airport</td>\n",
       "      <td>Irving, Texas</td>\n",
       "      <td>DFW</td>\n",
       "      <td>39364990</td>\n",
       "      <td>47.6</td>\n",
       "      <td>NaN</td>\n",
       "      <td>NaN</td>\n",
       "    </tr>\n",
       "  </tbody>\n",
       "</table>\n",
       "</div>"
      ],
      "text/plain": [
       "  Rank Rank change                                      Airport name  \\\n",
       "  Rank Rank change                                      Airport name   \n",
       "0    1         NaN  Hartsfield–Jackson Atlanta International Airport   \n",
       "1    2         2.0           Dallas/Fort Worth International Airport   \n",
       "\n",
       "                Location IATA Code    Traffic                Aircraft  \\\n",
       "                Location IATA Code Passengers % chg.2019/20 Movements   \n",
       "0  College Park, Georgia       ATL   42918685          61.2       NaN   \n",
       "1          Irving, Texas       DFW   39364990          47.6       NaN   \n",
       "\n",
       "                 \n",
       "  % chg.2019/20  \n",
       "0           0.0  \n",
       "1           NaN  "
      ]
     },
     "execution_count": 24,
     "metadata": {},
     "output_type": "execute_result"
    }
   ],
   "source": [
    "web=df3[2]\n",
    "web.head(2)"
   ]
  },
  {
   "cell_type": "code",
   "execution_count": 25,
   "id": "421797fb",
   "metadata": {},
   "outputs": [
    {
     "data": {
      "text/html": [
       "<div>\n",
       "<style scoped>\n",
       "    .dataframe tbody tr th:only-of-type {\n",
       "        vertical-align: middle;\n",
       "    }\n",
       "\n",
       "    .dataframe tbody tr th {\n",
       "        vertical-align: top;\n",
       "    }\n",
       "\n",
       "    .dataframe thead tr th {\n",
       "        text-align: left;\n",
       "    }\n",
       "</style>\n",
       "<table border=\"1\" class=\"dataframe\">\n",
       "  <thead>\n",
       "    <tr>\n",
       "      <th></th>\n",
       "      <th>Rank</th>\n",
       "      <th>Airport name</th>\n",
       "      <th>Location</th>\n",
       "      <th colspan=\"2\" halign=\"left\">Traffic</th>\n",
       "    </tr>\n",
       "    <tr>\n",
       "      <th></th>\n",
       "      <th>Rank</th>\n",
       "      <th>Airport name</th>\n",
       "      <th>Location</th>\n",
       "      <th>Passengers</th>\n",
       "      <th>% chg.2019/20</th>\n",
       "    </tr>\n",
       "  </thead>\n",
       "  <tbody>\n",
       "    <tr>\n",
       "      <th>0</th>\n",
       "      <td>1</td>\n",
       "      <td>Hartsfield–Jackson Atlanta International Airport</td>\n",
       "      <td>College Park, Georgia</td>\n",
       "      <td>42918685</td>\n",
       "      <td>61.2</td>\n",
       "    </tr>\n",
       "    <tr>\n",
       "      <th>1</th>\n",
       "      <td>2</td>\n",
       "      <td>Dallas/Fort Worth International Airport</td>\n",
       "      <td>Irving, Texas</td>\n",
       "      <td>39364990</td>\n",
       "      <td>47.6</td>\n",
       "    </tr>\n",
       "    <tr>\n",
       "      <th>2</th>\n",
       "      <td>3</td>\n",
       "      <td>Denver International Airport</td>\n",
       "      <td>Denver, Colorado</td>\n",
       "      <td>33741129</td>\n",
       "      <td>51.1</td>\n",
       "    </tr>\n",
       "    <tr>\n",
       "      <th>3</th>\n",
       "      <td>4</td>\n",
       "      <td>O'Hare International Airport</td>\n",
       "      <td>Chicago, Illinois</td>\n",
       "      <td>30860251</td>\n",
       "      <td>63.5</td>\n",
       "    </tr>\n",
       "    <tr>\n",
       "      <th>4</th>\n",
       "      <td>5</td>\n",
       "      <td>Los Angeles International Airport</td>\n",
       "      <td>Los Angeles, California</td>\n",
       "      <td>28779527</td>\n",
       "      <td>67.3</td>\n",
       "    </tr>\n",
       "  </tbody>\n",
       "</table>\n",
       "</div>"
      ],
      "text/plain": [
       "  Rank                                      Airport name  \\\n",
       "  Rank                                      Airport name   \n",
       "0    1  Hartsfield–Jackson Atlanta International Airport   \n",
       "1    2           Dallas/Fort Worth International Airport   \n",
       "2    3                      Denver International Airport   \n",
       "3    4                      O'Hare International Airport   \n",
       "4    5                 Los Angeles International Airport   \n",
       "\n",
       "                  Location    Traffic                \n",
       "                  Location Passengers % chg.2019/20  \n",
       "0    College Park, Georgia   42918685          61.2  \n",
       "1            Irving, Texas   39364990          47.6  \n",
       "2         Denver, Colorado   33741129          51.1  \n",
       "3        Chicago, Illinois   30860251          63.5  \n",
       "4  Los Angeles, California   28779527          67.3  "
      ]
     },
     "execution_count": 25,
     "metadata": {},
     "output_type": "execute_result"
    }
   ],
   "source": [
    "web2=web[['Rank','Airport name','Location','Traffic']]\n",
    "web2.head()"
   ]
  },
  {
   "cell_type": "code",
   "execution_count": 26,
   "id": "da358ff2",
   "metadata": {},
   "outputs": [],
   "source": [
    "ar=pd.read_excel('Airlines.xlsx')"
   ]
  },
  {
   "cell_type": "code",
   "execution_count": 27,
   "id": "06626c97",
   "metadata": {},
   "outputs": [
    {
     "data": {
      "text/html": [
       "<div>\n",
       "<style scoped>\n",
       "    .dataframe tbody tr th:only-of-type {\n",
       "        vertical-align: middle;\n",
       "    }\n",
       "\n",
       "    .dataframe tbody tr th {\n",
       "        vertical-align: top;\n",
       "    }\n",
       "\n",
       "    .dataframe thead th {\n",
       "        text-align: right;\n",
       "    }\n",
       "</style>\n",
       "<table border=\"1\" class=\"dataframe\">\n",
       "  <thead>\n",
       "    <tr style=\"text-align: right;\">\n",
       "      <th></th>\n",
       "      <th>id</th>\n",
       "      <th>Airline</th>\n",
       "      <th>Flight</th>\n",
       "      <th>AirportFrom</th>\n",
       "      <th>AirportTo</th>\n",
       "      <th>DayOfWeek</th>\n",
       "      <th>Time</th>\n",
       "      <th>Length</th>\n",
       "      <th>Delay</th>\n",
       "    </tr>\n",
       "  </thead>\n",
       "  <tbody>\n",
       "    <tr>\n",
       "      <th>0</th>\n",
       "      <td>1</td>\n",
       "      <td>CO</td>\n",
       "      <td>269</td>\n",
       "      <td>SFO</td>\n",
       "      <td>IAH</td>\n",
       "      <td>3</td>\n",
       "      <td>15</td>\n",
       "      <td>205</td>\n",
       "      <td>1</td>\n",
       "    </tr>\n",
       "    <tr>\n",
       "      <th>1</th>\n",
       "      <td>2</td>\n",
       "      <td>US</td>\n",
       "      <td>1558</td>\n",
       "      <td>PHX</td>\n",
       "      <td>CLT</td>\n",
       "      <td>3</td>\n",
       "      <td>15</td>\n",
       "      <td>222</td>\n",
       "      <td>1</td>\n",
       "    </tr>\n",
       "  </tbody>\n",
       "</table>\n",
       "</div>"
      ],
      "text/plain": [
       "   id Airline  Flight AirportFrom AirportTo  DayOfWeek  Time  Length  Delay\n",
       "0   1      CO     269         SFO       IAH          3    15     205      1\n",
       "1   2      US    1558         PHX       CLT          3    15     222      1"
      ]
     },
     "execution_count": 27,
     "metadata": {},
     "output_type": "execute_result"
    }
   ],
   "source": [
    "ar.head(2)"
   ]
  },
  {
   "cell_type": "code",
   "execution_count": 28,
   "id": "3351bd6b",
   "metadata": {},
   "outputs": [
    {
     "data": {
      "text/html": [
       "<div>\n",
       "<style scoped>\n",
       "    .dataframe tbody tr th:only-of-type {\n",
       "        vertical-align: middle;\n",
       "    }\n",
       "\n",
       "    .dataframe tbody tr th {\n",
       "        vertical-align: top;\n",
       "    }\n",
       "\n",
       "    .dataframe thead th {\n",
       "        text-align: right;\n",
       "    }\n",
       "</style>\n",
       "<table border=\"1\" class=\"dataframe\">\n",
       "  <thead>\n",
       "    <tr style=\"text-align: right;\">\n",
       "      <th></th>\n",
       "      <th>id_x</th>\n",
       "      <th>ident</th>\n",
       "      <th>type</th>\n",
       "      <th>name</th>\n",
       "      <th>latitude_deg</th>\n",
       "      <th>longitude_deg</th>\n",
       "      <th>elevation_ft</th>\n",
       "      <th>continent</th>\n",
       "      <th>iso_country</th>\n",
       "      <th>iso_region</th>\n",
       "      <th>...</th>\n",
       "      <th>le_longitude_deg</th>\n",
       "      <th>le_elevation_ft</th>\n",
       "      <th>le_heading_degT</th>\n",
       "      <th>le_displaced_threshold_ft</th>\n",
       "      <th>he_ident</th>\n",
       "      <th>he_latitude_deg</th>\n",
       "      <th>he_longitude_deg</th>\n",
       "      <th>he_elevation_ft</th>\n",
       "      <th>he_heading_degT</th>\n",
       "      <th>he_displaced_threshold_ft</th>\n",
       "    </tr>\n",
       "  </thead>\n",
       "  <tbody>\n",
       "    <tr>\n",
       "      <th>0</th>\n",
       "      <td>6523</td>\n",
       "      <td>00A</td>\n",
       "      <td>heliport</td>\n",
       "      <td>Total Rf Heliport</td>\n",
       "      <td>40.070801</td>\n",
       "      <td>-74.933601</td>\n",
       "      <td>11.0</td>\n",
       "      <td>NaN</td>\n",
       "      <td>US</td>\n",
       "      <td>US-PA</td>\n",
       "      <td>...</td>\n",
       "      <td>NaN</td>\n",
       "      <td>NaN</td>\n",
       "      <td>NaN</td>\n",
       "      <td>NaN</td>\n",
       "      <td>NaN</td>\n",
       "      <td>NaN</td>\n",
       "      <td>NaN</td>\n",
       "      <td>NaN</td>\n",
       "      <td>NaN</td>\n",
       "      <td>NaN</td>\n",
       "    </tr>\n",
       "    <tr>\n",
       "      <th>1</th>\n",
       "      <td>6524</td>\n",
       "      <td>00AK</td>\n",
       "      <td>small_airport</td>\n",
       "      <td>Lowell Field</td>\n",
       "      <td>59.947733</td>\n",
       "      <td>-151.692524</td>\n",
       "      <td>450.0</td>\n",
       "      <td>NaN</td>\n",
       "      <td>US</td>\n",
       "      <td>US-AK</td>\n",
       "      <td>...</td>\n",
       "      <td>NaN</td>\n",
       "      <td>NaN</td>\n",
       "      <td>NaN</td>\n",
       "      <td>NaN</td>\n",
       "      <td>S</td>\n",
       "      <td>NaN</td>\n",
       "      <td>NaN</td>\n",
       "      <td>NaN</td>\n",
       "      <td>NaN</td>\n",
       "      <td>NaN</td>\n",
       "    </tr>\n",
       "  </tbody>\n",
       "</table>\n",
       "<p>2 rows × 38 columns</p>\n",
       "</div>"
      ],
      "text/plain": [
       "   id_x ident           type               name  latitude_deg  longitude_deg  \\\n",
       "0  6523   00A       heliport  Total Rf Heliport     40.070801     -74.933601   \n",
       "1  6524  00AK  small_airport       Lowell Field     59.947733    -151.692524   \n",
       "\n",
       "   elevation_ft continent iso_country iso_region  ... le_longitude_deg  \\\n",
       "0          11.0       NaN          US      US-PA  ...              NaN   \n",
       "1         450.0       NaN          US      US-AK  ...              NaN   \n",
       "\n",
       "  le_elevation_ft le_heading_degT le_displaced_threshold_ft he_ident  \\\n",
       "0             NaN             NaN                       NaN      NaN   \n",
       "1             NaN             NaN                       NaN        S   \n",
       "\n",
       "  he_latitude_deg he_longitude_deg he_elevation_ft  he_heading_degT  \\\n",
       "0             NaN              NaN             NaN              NaN   \n",
       "1             NaN              NaN             NaN              NaN   \n",
       "\n",
       "   he_displaced_threshold_ft  \n",
       "0                        NaN  \n",
       "1                        NaN  \n",
       "\n",
       "[2 rows x 38 columns]"
      ]
     },
     "execution_count": 28,
     "metadata": {},
     "output_type": "execute_result"
    }
   ],
   "source": [
    "df.head(2)"
   ]
  },
  {
   "cell_type": "markdown",
   "id": "b90080bd",
   "metadata": {},
   "source": [
    "### 2. You should then examine the missing values in each field, perform missing value treatment, and justify your actions."
   ]
  },
  {
   "cell_type": "code",
   "execution_count": 29,
   "id": "d66915f0",
   "metadata": {},
   "outputs": [
    {
     "data": {
      "text/plain": [
       "id             0\n",
       "Airline        0\n",
       "Flight         0\n",
       "AirportFrom    0\n",
       "AirportTo      0\n",
       "DayOfWeek      0\n",
       "Time           0\n",
       "Length         0\n",
       "Delay          0\n",
       "dtype: int64"
      ]
     },
     "execution_count": 29,
     "metadata": {},
     "output_type": "execute_result"
    }
   ],
   "source": [
    "ar.isnull().sum() # no missing value in airline.xlsx"
   ]
  },
  {
   "cell_type": "code",
   "execution_count": 30,
   "id": "1c447273",
   "metadata": {},
   "outputs": [
    {
     "data": {
      "text/plain": [
       "id_x                             0\n",
       "ident                            0\n",
       "type                             0\n",
       "name                             0\n",
       "latitude_deg                     0\n",
       "longitude_deg                    0\n",
       "elevation_ft                  1505\n",
       "continent                    27204\n",
       "iso_country                     37\n",
       "iso_region                       0\n",
       "municipality                  2257\n",
       "scheduled_service                0\n",
       "gps_code                      5136\n",
       "iata_code                    33565\n",
       "local_code                   15152\n",
       "home_link                    39753\n",
       "wikipedia_link               32253\n",
       "keywords                     34023\n",
       "id_y                             0\n",
       "airport_ref                      0\n",
       "airport_ident                    0\n",
       "length_ft                      224\n",
       "width_ft                      2889\n",
       "surface                        457\n",
       "lighted                          0\n",
       "closed                           0\n",
       "le_ident                       184\n",
       "le_latitude_deg              28961\n",
       "le_longitude_deg             28977\n",
       "le_elevation_ft              31196\n",
       "le_heading_degT              29353\n",
       "le_displaced_threshold_ft    41094\n",
       "he_ident                      6645\n",
       "he_latitude_deg              29006\n",
       "he_longitude_deg             29004\n",
       "he_elevation_ft              31357\n",
       "he_heading_degT              27549\n",
       "he_displaced_threshold_ft    40801\n",
       "dtype: int64"
      ]
     },
     "execution_count": 30,
     "metadata": {},
     "output_type": "execute_result"
    }
   ],
   "source": [
    "df.isnull().sum()"
   ]
  },
  {
   "cell_type": "code",
   "execution_count": 31,
   "id": "7ca6fba9",
   "metadata": {
    "scrolled": true
   },
   "outputs": [
    {
     "data": {
      "text/plain": [
       "id_x                          0.000000\n",
       "ident                         0.000000\n",
       "type                          0.000000\n",
       "name                          0.000000\n",
       "latitude_deg                  0.000000\n",
       "longitude_deg                 0.000000\n",
       "elevation_ft                  3.422243\n",
       "continent                    61.859608\n",
       "iso_country                   0.084135\n",
       "iso_region                    0.000000\n",
       "municipality                  5.132228\n",
       "scheduled_service             0.000000\n",
       "gps_code                     11.678832\n",
       "iata_code                    76.323988\n",
       "local_code                   34.454374\n",
       "home_link                    90.394979\n",
       "wikipedia_link               73.340610\n",
       "keywords                     77.365441\n",
       "id_y                          0.000000\n",
       "airport_ref                   0.000000\n",
       "airport_ident                 0.000000\n",
       "length_ft                     0.509357\n",
       "width_ft                      6.569343\n",
       "surface                       1.039180\n",
       "lighted                       0.000000\n",
       "closed                        0.000000\n",
       "le_ident                      0.418401\n",
       "le_latitude_deg              65.854879\n",
       "le_longitude_deg             65.891261\n",
       "le_elevation_ft              70.937081\n",
       "le_heading_degT              66.746254\n",
       "le_displaced_threshold_ft    93.444300\n",
       "he_ident                     15.110171\n",
       "he_latitude_deg              65.957205\n",
       "he_longitude_deg             65.952657\n",
       "he_elevation_ft              71.303181\n",
       "he_heading_degT              62.644109\n",
       "he_displaced_threshold_ft    92.778043\n",
       "dtype: float64"
      ]
     },
     "execution_count": 31,
     "metadata": {},
     "output_type": "execute_result"
    }
   ],
   "source": [
    "df_null=df.isnull().sum()*100/df.shape[0]\n",
    "df_null"
   ]
  },
  {
   "cell_type": "code",
   "execution_count": 32,
   "id": "69dfd3fa",
   "metadata": {},
   "outputs": [],
   "source": [
    "med=df['elevation_ft'].median()        # median for missing value.\n",
    "df['elevation_ft'].fillna(med,inplace=True)"
   ]
  },
  {
   "cell_type": "code",
   "execution_count": 33,
   "id": "643a6468",
   "metadata": {},
   "outputs": [],
   "source": [
    "df['iata_code'].bfill(inplace=True)"
   ]
  },
  {
   "cell_type": "code",
   "execution_count": 34,
   "id": "db76ce3c",
   "metadata": {},
   "outputs": [],
   "source": [
    "#df['iata_code'].ffill(inplace=True)"
   ]
  },
  {
   "cell_type": "code",
   "execution_count": 35,
   "id": "1c01b7aa",
   "metadata": {},
   "outputs": [
    {
     "data": {
      "text/plain": [
       "id_x                             0\n",
       "ident                            0\n",
       "type                             0\n",
       "name                             0\n",
       "latitude_deg                     0\n",
       "longitude_deg                    0\n",
       "elevation_ft                     0\n",
       "continent                    27204\n",
       "iso_country                     37\n",
       "iso_region                       0\n",
       "municipality                  2257\n",
       "scheduled_service                0\n",
       "gps_code                      5136\n",
       "iata_code                        2\n",
       "local_code                   15152\n",
       "home_link                    39753\n",
       "wikipedia_link               32253\n",
       "keywords                     34023\n",
       "id_y                             0\n",
       "airport_ref                      0\n",
       "airport_ident                    0\n",
       "length_ft                      224\n",
       "width_ft                      2889\n",
       "surface                        457\n",
       "lighted                          0\n",
       "closed                           0\n",
       "le_ident                       184\n",
       "le_latitude_deg              28961\n",
       "le_longitude_deg             28977\n",
       "le_elevation_ft              31196\n",
       "le_heading_degT              29353\n",
       "le_displaced_threshold_ft    41094\n",
       "he_ident                      6645\n",
       "he_latitude_deg              29006\n",
       "he_longitude_deg             29004\n",
       "he_elevation_ft              31357\n",
       "he_heading_degT              27549\n",
       "he_displaced_threshold_ft    40801\n",
       "dtype: int64"
      ]
     },
     "execution_count": 35,
     "metadata": {},
     "output_type": "execute_result"
    }
   ],
   "source": [
    "df.isnull().sum()"
   ]
  },
  {
   "cell_type": "code",
   "execution_count": 36,
   "id": "e3d557cb",
   "metadata": {},
   "outputs": [],
   "source": [
    "df.dropna(inplace=True)    # drop other column that has more null value."
   ]
  },
  {
   "cell_type": "code",
   "execution_count": 37,
   "id": "9bd431c9",
   "metadata": {},
   "outputs": [
    {
     "data": {
      "text/plain": [
       "0"
      ]
     },
     "execution_count": 37,
     "metadata": {},
     "output_type": "execute_result"
    }
   ],
   "source": [
    "df.isnull().sum().sum()"
   ]
  },
  {
   "cell_type": "code",
   "execution_count": 38,
   "id": "7f20a224",
   "metadata": {},
   "outputs": [
    {
     "data": {
      "text/plain": [
       "Index(['id_x', 'ident', 'type', 'name', 'latitude_deg', 'longitude_deg',\n",
       "       'elevation_ft', 'continent', 'iso_country', 'iso_region',\n",
       "       'municipality', 'scheduled_service', 'gps_code', 'iata_code',\n",
       "       'local_code', 'home_link', 'wikipedia_link', 'keywords', 'id_y',\n",
       "       'airport_ref', 'airport_ident', 'length_ft', 'width_ft', 'surface',\n",
       "       'lighted', 'closed', 'le_ident', 'le_latitude_deg', 'le_longitude_deg',\n",
       "       'le_elevation_ft', 'le_heading_degT', 'le_displaced_threshold_ft',\n",
       "       'he_ident', 'he_latitude_deg', 'he_longitude_deg', 'he_elevation_ft',\n",
       "       'he_heading_degT', 'he_displaced_threshold_ft'],\n",
       "      dtype='object')"
      ]
     },
     "execution_count": 38,
     "metadata": {},
     "output_type": "execute_result"
    }
   ],
   "source": [
    "df.columns"
   ]
  },
  {
   "cell_type": "code",
   "execution_count": 39,
   "id": "7c14a787",
   "metadata": {},
   "outputs": [
    {
     "data": {
      "text/plain": [
       "array(['small_airport', 'medium_airport', 'large_airport'], dtype=object)"
      ]
     },
     "execution_count": 39,
     "metadata": {},
     "output_type": "execute_result"
    }
   ],
   "source": [
    "df['type'].unique()"
   ]
  },
  {
   "cell_type": "markdown",
   "id": "44cc24bf",
   "metadata": {},
   "source": [
    "### 3. Perform data visualization and share your insights on the following points:\n",
    "a. According to the data provided, approximately 70% of Southwest Airlines flights are \n",
    "delayed. Visualize it to compare it with the data of other airline"
   ]
  },
  {
   "cell_type": "code",
   "execution_count": 40,
   "id": "0afef465",
   "metadata": {},
   "outputs": [
    {
     "data": {
      "text/html": [
       "<div>\n",
       "<style scoped>\n",
       "    .dataframe tbody tr th:only-of-type {\n",
       "        vertical-align: middle;\n",
       "    }\n",
       "\n",
       "    .dataframe tbody tr th {\n",
       "        vertical-align: top;\n",
       "    }\n",
       "\n",
       "    .dataframe thead th {\n",
       "        text-align: right;\n",
       "    }\n",
       "</style>\n",
       "<table border=\"1\" class=\"dataframe\">\n",
       "  <thead>\n",
       "    <tr style=\"text-align: right;\">\n",
       "      <th></th>\n",
       "      <th>id</th>\n",
       "      <th>Airline</th>\n",
       "      <th>Flight</th>\n",
       "      <th>AirportFrom</th>\n",
       "      <th>AirportTo</th>\n",
       "      <th>DayOfWeek</th>\n",
       "      <th>Time</th>\n",
       "      <th>Length</th>\n",
       "      <th>Delay</th>\n",
       "    </tr>\n",
       "  </thead>\n",
       "  <tbody>\n",
       "    <tr>\n",
       "      <th>456</th>\n",
       "      <td>475</td>\n",
       "      <td>WN</td>\n",
       "      <td>1067</td>\n",
       "      <td>OAK</td>\n",
       "      <td>SAN</td>\n",
       "      <td>3</td>\n",
       "      <td>360</td>\n",
       "      <td>85</td>\n",
       "      <td>1</td>\n",
       "    </tr>\n",
       "    <tr>\n",
       "      <th>460</th>\n",
       "      <td>479</td>\n",
       "      <td>WN</td>\n",
       "      <td>1851</td>\n",
       "      <td>ONT</td>\n",
       "      <td>OAK</td>\n",
       "      <td>3</td>\n",
       "      <td>360</td>\n",
       "      <td>80</td>\n",
       "      <td>1</td>\n",
       "    </tr>\n",
       "    <tr>\n",
       "      <th>462</th>\n",
       "      <td>481</td>\n",
       "      <td>WN</td>\n",
       "      <td>2529</td>\n",
       "      <td>IND</td>\n",
       "      <td>DEN</td>\n",
       "      <td>3</td>\n",
       "      <td>360</td>\n",
       "      <td>185</td>\n",
       "      <td>1</td>\n",
       "    </tr>\n",
       "    <tr>\n",
       "      <th>463</th>\n",
       "      <td>482</td>\n",
       "      <td>WN</td>\n",
       "      <td>2643</td>\n",
       "      <td>SMF</td>\n",
       "      <td>LAX</td>\n",
       "      <td>3</td>\n",
       "      <td>360</td>\n",
       "      <td>80</td>\n",
       "      <td>1</td>\n",
       "    </tr>\n",
       "    <tr>\n",
       "      <th>466</th>\n",
       "      <td>485</td>\n",
       "      <td>WN</td>\n",
       "      <td>367</td>\n",
       "      <td>MDW</td>\n",
       "      <td>BNA</td>\n",
       "      <td>3</td>\n",
       "      <td>360</td>\n",
       "      <td>85</td>\n",
       "      <td>1</td>\n",
       "    </tr>\n",
       "    <tr>\n",
       "      <th>...</th>\n",
       "      <td>...</td>\n",
       "      <td>...</td>\n",
       "      <td>...</td>\n",
       "      <td>...</td>\n",
       "      <td>...</td>\n",
       "      <td>...</td>\n",
       "      <td>...</td>\n",
       "      <td>...</td>\n",
       "      <td>...</td>\n",
       "    </tr>\n",
       "    <tr>\n",
       "      <th>517986</th>\n",
       "      <td>538750</td>\n",
       "      <td>WN</td>\n",
       "      <td>2601</td>\n",
       "      <td>LAS</td>\n",
       "      <td>SMF</td>\n",
       "      <td>5</td>\n",
       "      <td>1230</td>\n",
       "      <td>85</td>\n",
       "      <td>1</td>\n",
       "    </tr>\n",
       "    <tr>\n",
       "      <th>518018</th>\n",
       "      <td>538783</td>\n",
       "      <td>WN</td>\n",
       "      <td>1936</td>\n",
       "      <td>SMF</td>\n",
       "      <td>SAN</td>\n",
       "      <td>5</td>\n",
       "      <td>1235</td>\n",
       "      <td>85</td>\n",
       "      <td>1</td>\n",
       "    </tr>\n",
       "    <tr>\n",
       "      <th>518045</th>\n",
       "      <td>538810</td>\n",
       "      <td>WN</td>\n",
       "      <td>2629</td>\n",
       "      <td>LAS</td>\n",
       "      <td>RNO</td>\n",
       "      <td>5</td>\n",
       "      <td>1240</td>\n",
       "      <td>75</td>\n",
       "      <td>1</td>\n",
       "    </tr>\n",
       "    <tr>\n",
       "      <th>518068</th>\n",
       "      <td>538833</td>\n",
       "      <td>WN</td>\n",
       "      <td>1226</td>\n",
       "      <td>SFO</td>\n",
       "      <td>LAX</td>\n",
       "      <td>5</td>\n",
       "      <td>1245</td>\n",
       "      <td>75</td>\n",
       "      <td>1</td>\n",
       "    </tr>\n",
       "    <tr>\n",
       "      <th>518069</th>\n",
       "      <td>538834</td>\n",
       "      <td>WN</td>\n",
       "      <td>2370</td>\n",
       "      <td>LAX</td>\n",
       "      <td>SFO</td>\n",
       "      <td>5</td>\n",
       "      <td>1245</td>\n",
       "      <td>75</td>\n",
       "      <td>1</td>\n",
       "    </tr>\n",
       "  </tbody>\n",
       "</table>\n",
       "<p>65657 rows × 9 columns</p>\n",
       "</div>"
      ],
      "text/plain": [
       "            id Airline  Flight AirportFrom AirportTo  DayOfWeek  Time  Length  \\\n",
       "456        475      WN    1067         OAK       SAN          3   360      85   \n",
       "460        479      WN    1851         ONT       OAK          3   360      80   \n",
       "462        481      WN    2529         IND       DEN          3   360     185   \n",
       "463        482      WN    2643         SMF       LAX          3   360      80   \n",
       "466        485      WN     367         MDW       BNA          3   360      85   \n",
       "...        ...     ...     ...         ...       ...        ...   ...     ...   \n",
       "517986  538750      WN    2601         LAS       SMF          5  1230      85   \n",
       "518018  538783      WN    1936         SMF       SAN          5  1235      85   \n",
       "518045  538810      WN    2629         LAS       RNO          5  1240      75   \n",
       "518068  538833      WN    1226         SFO       LAX          5  1245      75   \n",
       "518069  538834      WN    2370         LAX       SFO          5  1245      75   \n",
       "\n",
       "        Delay  \n",
       "456         1  \n",
       "460         1  \n",
       "462         1  \n",
       "463         1  \n",
       "466         1  \n",
       "...       ...  \n",
       "517986      1  \n",
       "518018      1  \n",
       "518045      1  \n",
       "518068      1  \n",
       "518069      1  \n",
       "\n",
       "[65657 rows x 9 columns]"
      ]
     },
     "execution_count": 40,
     "metadata": {},
     "output_type": "execute_result"
    }
   ],
   "source": [
    "ar[(ar['Airline']=='WN') & (ar['Delay']==1)]"
   ]
  },
  {
   "cell_type": "code",
   "execution_count": 41,
   "id": "e9fd0784",
   "metadata": {},
   "outputs": [
    {
     "data": {
      "text/plain": [
       "65657"
      ]
     },
     "execution_count": 41,
     "metadata": {},
     "output_type": "execute_result"
    }
   ],
   "source": [
    "graph=ar.loc[ar['Airline']== 'WN']['Delay'].value_counts()\n",
    "graph[1]   "
   ]
  },
  {
   "cell_type": "code",
   "execution_count": 42,
   "id": "ace228a0",
   "metadata": {},
   "outputs": [
    {
     "name": "stderr",
     "output_type": "stream",
     "text": [
      "C:\\Users\\sutharsan\\anaconda3\\lib\\site-packages\\seaborn\\_decorators.py:36: FutureWarning: Pass the following variable as a keyword arg: x. From version 0.12, the only valid positional argument will be `data`, and passing other arguments without an explicit keyword will result in an error or misinterpretation.\n",
      "  warnings.warn(\n"
     ]
    },
    {
     "data": {
      "text/plain": [
       "<AxesSubplot:xlabel='Delay', ylabel='count'>"
      ]
     },
     "execution_count": 42,
     "metadata": {},
     "output_type": "execute_result"
    },
    {
     "data": {
      "image/png": "[encoded data removed]",
      "text/plain": [
       "<Figure size 432x288 with 1 Axes>"
      ]
     },
     "metadata": {
      "needs_background": "light"
     },
     "output_type": "display_data"
    }
   ],
   "source": [
    "sns.countplot(graph,label='delay')"
   ]
  },
  {
   "cell_type": "code",
   "execution_count": 43,
   "id": "38a0f419",
   "metadata": {},
   "outputs": [
    {
     "data": {
      "text/plain": [
       "69.77586958138941"
      ]
     },
     "execution_count": 43,
     "metadata": {},
     "output_type": "execute_result"
    }
   ],
   "source": [
    "# 1-233989(overall) WN-65657 \n",
    "percent=(graph[1]/graph.sum())*100     # 70 %\n",
    "percent"
   ]
  },
  {
   "cell_type": "code",
   "execution_count": 44,
   "id": "4f0404ab",
   "metadata": {},
   "outputs": [
    {
     "data": {
      "text/plain": [
       "<AxesSubplot:xlabel='Airline', ylabel='Count'>"
      ]
     },
     "execution_count": 44,
     "metadata": {},
     "output_type": "execute_result"
    },
    {
     "data": {
      "image/png": "[encoded data removed]",
      "text/plain": [
       "<Figure size 432x288 with 1 Axes>"
      ]
     },
     "metadata": {
      "needs_background": "light"
     },
     "output_type": "display_data"
    }
   ],
   "source": [
    "sns.histplot(data=ar, x='Airline', hue='Delay')   # WN has more delay['']"
   ]
  },
  {
   "cell_type": "markdown",
   "id": "a48d52bc",
   "metadata": {},
   "source": [
    "### b. Flights were delayed on various weekdays. Which day of the week is the safest for travel?"
   ]
  },
  {
   "cell_type": "code",
   "execution_count": 45,
   "id": "27106802",
   "metadata": {},
   "outputs": [
    {
     "data": {
      "text/plain": [
       "<AxesSubplot:xlabel='DayOfWeek', ylabel='count'>"
      ]
     },
     "execution_count": 45,
     "metadata": {},
     "output_type": "execute_result"
    },
    {
     "data": {
      "image/png": "[encoded data removed]",
      "text/plain": [
       "<Figure size 432x288 with 1 Axes>"
      ]
     },
     "metadata": {
      "needs_background": "light"
     },
     "output_type": "display_data"
    }
   ],
   "source": [
    "sns.countplot(data=ar, x='DayOfWeek', hue='Delay')   # Day 6 has least delay"
   ]
  },
  {
   "cell_type": "markdown",
   "id": "b3e380b4",
   "metadata": {},
   "source": [
    "### c. Which airlines should be recommended for short-, medium-, and long-distance travel?"
   ]
  },
  {
   "cell_type": "code",
   "execution_count": 46,
   "id": "15758a38",
   "metadata": {},
   "outputs": [
    {
     "data": {
      "text/plain": [
       "0"
      ]
     },
     "execution_count": 46,
     "metadata": {},
     "output_type": "execute_result"
    }
   ],
   "source": [
    "ar['Length'].min()"
   ]
  },
  {
   "cell_type": "code",
   "execution_count": 47,
   "id": "5282b899",
   "metadata": {},
   "outputs": [
    {
     "data": {
      "text/plain": [
       "655"
      ]
     },
     "execution_count": 47,
     "metadata": {},
     "output_type": "execute_result"
    }
   ],
   "source": [
    "ar['Length'].max()"
   ]
  },
  {
   "cell_type": "code",
   "execution_count": 48,
   "id": "c318ffc0",
   "metadata": {},
   "outputs": [
    {
     "data": {
      "text/plain": [
       "132.21920101204114"
      ]
     },
     "execution_count": 48,
     "metadata": {},
     "output_type": "execute_result"
    }
   ],
   "source": [
    "ar['Length'].mean()"
   ]
  },
  {
   "cell_type": "code",
   "execution_count": 49,
   "id": "8bac8d67",
   "metadata": {},
   "outputs": [
    {
     "name": "stderr",
     "output_type": "stream",
     "text": [
      "C:\\Users\\sutharsan\\AppData\\Local\\Temp\\ipykernel_11328\\3604829246.py:1: FutureWarning: Indexing with multiple keys (implicitly converted to a tuple of keys) will be deprecated, use a list instead.\n",
      "  ar.groupby('Delay')['Length','Airline'].value_counts()\n"
     ]
    },
    {
     "data": {
      "text/plain": [
       "Delay  Length  Airline\n",
       "0      70      WN         2232\n",
       "       80      WN         1932\n",
       "       65      WN         1820\n",
       "       75      WN         1769\n",
       "       60      WN         1739\n",
       "                          ... \n",
       "1      173     YV            1\n",
       "       177     AS            1\n",
       "       380     WN            1\n",
       "       178     AS            1\n",
       "       286     CO            1\n",
       "Length: 6186, dtype: int64"
      ]
     },
     "execution_count": 49,
     "metadata": {},
     "output_type": "execute_result"
    }
   ],
   "source": [
    "ar.groupby('Delay')['Length','Airline'].value_counts()"
   ]
  },
  {
   "cell_type": "code",
   "execution_count": 50,
   "id": "7543a708",
   "metadata": {},
   "outputs": [],
   "source": [
    "def duration(x):\n",
    "    if (x<130):\n",
    "        return('small')\n",
    "    elif ((x>130) & (x<300)):\n",
    "        return('medium')\n",
    "    else:\n",
    "        return('large')"
   ]
  },
  {
   "cell_type": "code",
   "execution_count": 51,
   "id": "76a95c04",
   "metadata": {},
   "outputs": [],
   "source": [
    "ar['duration']=ar['Length'].apply(duration)"
   ]
  },
  {
   "cell_type": "code",
   "execution_count": 52,
   "id": "e4c34c4c",
   "metadata": {},
   "outputs": [
    {
     "data": {
      "text/plain": [
       "0         medium\n",
       "1         medium\n",
       "2         medium\n",
       "3         medium\n",
       "4         medium\n",
       "           ...  \n",
       "518551    medium\n",
       "518552    medium\n",
       "518553     large\n",
       "518554     large\n",
       "518555     large\n",
       "Name: duration, Length: 518556, dtype: object"
      ]
     },
     "execution_count": 52,
     "metadata": {},
     "output_type": "execute_result"
    }
   ],
   "source": [
    "ar['duration']"
   ]
  },
  {
   "cell_type": "code",
   "execution_count": 53,
   "id": "c9990884",
   "metadata": {},
   "outputs": [
    {
     "name": "stderr",
     "output_type": "stream",
     "text": [
      "C:\\Users\\sutharsan\\AppData\\Local\\Temp\\ipykernel_11328\\2331821908.py:1: FutureWarning: Indexing with multiple keys (implicitly converted to a tuple of keys) will be deprecated, use a list instead.\n",
      "  b=ar.groupby('Delay')['duration','Airline'].value_counts()\n"
     ]
    },
    {
     "data": {
      "text/plain": [
       "Delay  duration  Airline\n",
       "0      small     OO         22709\n",
       "                 WN         19380\n",
       "                 MQ         18224\n",
       "       medium    AA         16790\n",
       "       small     DL         16164\n",
       "                            ...  \n",
       "1      large     XE           102\n",
       "                 F9            72\n",
       "                 OH            43\n",
       "                 YV            10\n",
       "       medium    HA             1\n",
       "Length: 101, dtype: int64"
      ]
     },
     "execution_count": 53,
     "metadata": {},
     "output_type": "execute_result"
    }
   ],
   "source": [
    "b=ar.groupby('Delay')['duration','Airline'].value_counts()\n",
    "b"
   ]
  },
  {
   "cell_type": "code",
   "execution_count": 54,
   "id": "0a013a9f",
   "metadata": {},
   "outputs": [
    {
     "data": {
      "text/plain": [
       "duration  Airline\n",
       "small     OO         22709\n",
       "          WN         19380\n",
       "          MQ         18224\n",
       "medium    AA         16790\n",
       "small     DL         16164\n",
       "          EV         15213\n",
       "medium    DL         15004\n",
       "small     XE         14135\n",
       "          US         13528\n",
       "          9E         11011\n",
       "medium    UA          9924\n",
       "small     YV          9049\n",
       "          AA          8326\n",
       "medium    WN          8127\n",
       "          US          7875\n",
       "small     OH          7102\n",
       "medium    CO          6459\n",
       "small     UA          5989\n",
       "medium    B6          5610\n",
       "          XE          5040\n",
       "          MQ          4813\n",
       "          OO          4664\n",
       "          AS          4259\n",
       "small     HA          3195\n",
       "          B6          3133\n",
       "large     AA          2804\n",
       "          UA          2760\n",
       "medium    F9          2515\n",
       "small     AS          2355\n",
       "large     DL          2320\n",
       "small     CO          1964\n",
       "medium    OH          1920\n",
       "large     US          1506\n",
       "medium    EV          1397\n",
       "          YV          1328\n",
       "          9E          1221\n",
       "large     AS           965\n",
       "small     F9           937\n",
       "large     WN           933\n",
       "          B6           910\n",
       "          MQ           826\n",
       "          CO           738\n",
       "          HA           597\n",
       "          9E           228\n",
       "          XE           156\n",
       "          OO           121\n",
       "          EV           118\n",
       "          OH           106\n",
       "          F9           105\n",
       "          YV            14\n",
       "dtype: int64"
      ]
     },
     "execution_count": 54,
     "metadata": {},
     "output_type": "execute_result"
    }
   ],
   "source": [
    "b[0]          # small-OO SKYWEST AIRLINES,WN-SOUTHWEST # MEDIUM-AA AMERICAN AIRLINES # LARGE-AA,UA - UNITED AIRLINES"
   ]
  },
  {
   "cell_type": "markdown",
   "id": "738b925e",
   "metadata": {},
   "source": [
    "### d. Do you notice any patterns in the departure times of long-duration flights?"
   ]
  },
  {
   "cell_type": "code",
   "execution_count": 55,
   "id": "e7f05200",
   "metadata": {},
   "outputs": [
    {
     "data": {
      "text/plain": [
       "duration  Time\n",
       "large     510     463\n",
       "          420     461\n",
       "          390     334\n",
       "          525     329\n",
       "          540     321\n",
       "                 ... \n",
       "small     1389      2\n",
       "          1395      2\n",
       "          1411      2\n",
       "          1412      2\n",
       "          30        1\n",
       "Name: Time, Length: 2719, dtype: int64"
      ]
     },
     "execution_count": 55,
     "metadata": {},
     "output_type": "execute_result"
    }
   ],
   "source": [
    "ar.groupby('duration')['Time'].value_counts()"
   ]
  },
  {
   "cell_type": "code",
   "execution_count": 56,
   "id": "dd353c05",
   "metadata": {},
   "outputs": [
    {
     "data": {
      "text/plain": [
       "<AxesSubplot:>"
      ]
     },
     "execution_count": 56,
     "metadata": {},
     "output_type": "execute_result"
    },
    {
     "data": {
      "image/png": "[encoded data removed]",
      "text/plain": [
       "<Figure size 432x288 with 1 Axes>"
      ]
     },
     "metadata": {
      "needs_background": "light"
     },
     "output_type": "display_data"
    }
   ],
   "source": [
    "ar[ar['duration']== 'large']['Time'].plot()   # pattern seasonal"
   ]
  },
  {
   "cell_type": "code",
   "execution_count": 57,
   "id": "c23fb5cf",
   "metadata": {},
   "outputs": [
    {
     "data": {
      "text/plain": [
       "<AxesSubplot:xlabel='Time', ylabel='Count'>"
      ]
     },
     "execution_count": 57,
     "metadata": {},
     "output_type": "execute_result"
    },
    {
     "data": {
      "image/png": "[encoded data removed]",
      "text/plain": [
       "<Figure size 1080x504 with 1 Axes>"
      ]
     },
     "metadata": {
      "needs_background": "light"
     },
     "output_type": "display_data"
    }
   ],
   "source": [
    "plt.figure(figsize=(15,7))\n",
    "sns.histplot(data=ar, x='Time', hue='duration') "
   ]
  },
  {
   "cell_type": "markdown",
   "id": "77d85d08",
   "metadata": {},
   "source": [
    "### 4. How many flights were delayed at large hubs compared to medium hubs? Use appropriate visualization to represent your findings."
   ]
  },
  {
   "cell_type": "code",
   "execution_count": 58,
   "id": "be7a0239",
   "metadata": {},
   "outputs": [
    {
     "data": {
      "text/plain": [
       "array(['small_airport', 'medium_airport', 'large_airport'], dtype=object)"
      ]
     },
     "execution_count": 58,
     "metadata": {},
     "output_type": "execute_result"
    }
   ],
   "source": [
    "df['type'].unique()"
   ]
  },
  {
   "cell_type": "code",
   "execution_count": 59,
   "id": "1dc418c8",
   "metadata": {},
   "outputs": [
    {
     "data": {
      "text/plain": [
       "medium_airport    11\n",
       "large_airport     10\n",
       "small_airport      1\n",
       "Name: type, dtype: int64"
      ]
     },
     "execution_count": 59,
     "metadata": {},
     "output_type": "execute_result"
    }
   ],
   "source": [
    "df.type.value_counts()  "
   ]
  },
  {
   "cell_type": "code",
   "execution_count": 60,
   "id": "22790775",
   "metadata": {},
   "outputs": [],
   "source": [
    "hub1=large['IATACode']\n",
    "hub1.ravel()\n",
    "hub1=['ATL', 'DFW', 'DEN', 'ORD', 'LAX', 'CLT', 'MCO', 'LAS', 'PHX',\n",
    "       'MIA', 'SEA', 'IAH', 'JFK', 'EWR', 'FLL', 'MSP', 'SFO', 'DTW',\n",
    "       'BOS', 'SLC', 'PHL', 'BWI', 'TPA', 'SAN', 'LGA', 'MDW', 'BNA',\n",
    "       'IAD', 'DCA', 'AUS']"
   ]
  },
  {
   "cell_type": "code",
   "execution_count": 61,
   "id": "0fd76ba4",
   "metadata": {},
   "outputs": [],
   "source": [
    "hub2=medium['IATACode']\n",
    "hub2.ravel()\n",
    "hub2=['DAL', 'HNL', 'PDX', 'HOU', 'RSW', 'STL', 'SMF', 'SJU', 'RDU',\n",
    "       'MSY', 'OAK', 'SNA', 'MCI', 'SAT', 'SJC', 'CLE', 'IND', 'PIT',\n",
    "       'CVG', 'OGG', 'CMH', 'PBI', 'JAX', 'BDL', 'MKE', 'ONT', 'ANC',\n",
    "       'CHS', 'BUR', 'OMA', 'BOI', 'MEM', 'RNO', 'ABQ', 'ORF']"
   ]
  },
  {
   "cell_type": "code",
   "execution_count": 62,
   "id": "9fd93034",
   "metadata": {},
   "outputs": [],
   "source": [
    "def size(x):\n",
    "    if x in hub1:\n",
    "        return('large hub')\n",
    "    elif x in hub2:\n",
    "        return('medium hub')\n",
    "    else:\n",
    "        return('small')\n",
    "        "
   ]
  },
  {
   "cell_type": "code",
   "execution_count": 63,
   "id": "72f9cc25",
   "metadata": {},
   "outputs": [],
   "source": [
    "ar['hub']=ar['AirportFrom'].apply(size)"
   ]
  },
  {
   "cell_type": "code",
   "execution_count": 64,
   "id": "15732365",
   "metadata": {},
   "outputs": [
    {
     "data": {
      "text/plain": [
       "0          large hub\n",
       "1          large hub\n",
       "2          large hub\n",
       "3          large hub\n",
       "4         medium hub\n",
       "             ...    \n",
       "518551     large hub\n",
       "518552     large hub\n",
       "518553    medium hub\n",
       "518554    medium hub\n",
       "518555     large hub\n",
       "Name: hub, Length: 518556, dtype: object"
      ]
     },
     "execution_count": 64,
     "metadata": {},
     "output_type": "execute_result"
    }
   ],
   "source": [
    "ar['hub']"
   ]
  },
  {
   "cell_type": "code",
   "execution_count": 65,
   "id": "8d340a2d",
   "metadata": {},
   "outputs": [
    {
     "data": {
      "text/plain": [
       "<AxesSubplot:xlabel='hub', ylabel='count'>"
      ]
     },
     "execution_count": 65,
     "metadata": {},
     "output_type": "execute_result"
    },
    {
     "data": {
      "image/png": "[encoded data removed]",
      "text/plain": [
       "<Figure size 432x288 with 1 Axes>"
      ]
     },
     "metadata": {
      "needs_background": "light"
     },
     "output_type": "display_data"
    }
   ],
   "source": [
    "sns.countplot(data=ar, x='hub', hue='Delay')"
   ]
  },
  {
   "cell_type": "markdown",
   "id": "9ccc3e33",
   "metadata": {},
   "source": [
    "### 5. Use hypothesis testing strategies to discover:\n",
    "a. If the airport's altitude has anything to do with flight delays for incoming and \n",
    "departing flights"
   ]
  },
  {
   "cell_type": "code",
   "execution_count": 66,
   "id": "cb85b5ed",
   "metadata": {},
   "outputs": [],
   "source": [
    "import scipy.stats as stat  "
   ]
  },
  {
   "cell_type": "code",
   "execution_count": 67,
   "id": "a81c1d49",
   "metadata": {
    "scrolled": true
   },
   "outputs": [
    {
     "name": "stdout",
     "output_type": "stream",
     "text": [
      "Accept H0, not related p value- 0.4646951458709183\n"
     ]
    }
   ],
   "source": [
    "# h0:If the airport's altitude has anything to do with flight delays for incoming and departing flights\n",
    "bias=pd.crosstab(df['elevation_ft'],ar['Delay'])            # 3.check bias\n",
    "res=stat.chi2_contingency(bias)\n",
    "if(res[1]<.05):                         # h0-no difference yes\n",
    "    print('reject H0 ,has related.',res[1])\n",
    "else:\n",
    "    print('Accept H0, not related p value-',res[1])"
   ]
  },
  {
   "cell_type": "markdown",
   "id": "05119585",
   "metadata": {},
   "source": [
    "### b. If the number of runways at an airport affects flight delays"
   ]
  },
  {
   "cell_type": "code",
   "execution_count": 68,
   "id": "5a50e1a5",
   "metadata": {},
   "outputs": [
    {
     "data": {
      "text/plain": [
       "id      Airline  Flight  AirportFrom  AirportTo  DayOfWeek  Time  Length  Delay  duration  hub      \n",
       "1       CO       269     SFO          IAH        3          15    205     1      medium    large hub    1\n",
       "379638  UA       438     LAX          ORD        3          1060  236     1      medium    large hub    1\n",
       "379644  US       369     PHX          SMF        3          1060  118     1      small     large hub    1\n",
       "379645  US       73      PHX          SEA        3          1060  183     1      medium    large hub    1\n",
       "379647  WN       102     BWI          MHT        3          1060  80      1      small     large hub    1\n",
       "                                                                                                       ..\n",
       "219886  US       707     PHL          ORD        1          1075  150     1      medium    large hub    1\n",
       "219887  US       734     CLT          PHL        1          1075  98      1      small     large hub    1\n",
       "219888  US       73      PHX          SEA        1          1075  184     1      medium    large hub    1\n",
       "219890  WN       1013    DEN          MDW        1          1075  135     1      medium    large hub    1\n",
       "539383  US       1442    LAX          PHL        5          1439  301     1      large     large hub    1\n",
       "Length: 233989, dtype: int64"
      ]
     },
     "execution_count": 68,
     "metadata": {},
     "output_type": "execute_result"
    }
   ],
   "source": [
    "data1=df.groupby('ident')['airport_ident'].value_counts()\n",
    "data1\n",
    "data2=ar[ar['Delay']==1].value_counts()\n",
    "data2"
   ]
  },
  {
   "cell_type": "code",
   "execution_count": 69,
   "id": "f75aa23c",
   "metadata": {},
   "outputs": [
    {
     "name": "stdout",
     "output_type": "stream",
     "text": [
      "Statistics=2573879.000, p=0.439\n",
      "runway affect delay (fail to reject H0)\n"
     ]
    }
   ],
   "source": [
    "from scipy.stats import mannwhitneyu\n",
    "stat, p = mannwhitneyu(data1, data2)\n",
    "print('Statistics=%.3f, p=%.3f' % (stat, p))\n",
    "alpha = 0.05\n",
    "if p > alpha:\n",
    " print('runway affect delay (fail to reject H0)')\n",
    "else:\n",
    " print('runway not affect delay (reject H0)')"
   ]
  },
  {
   "cell_type": "markdown",
   "id": "94691e63",
   "metadata": {},
   "source": [
    "### c.If the duration of a flight (length) affects flight delays"
   ]
  },
  {
   "cell_type": "code",
   "execution_count": 70,
   "id": "2650416a",
   "metadata": {},
   "outputs": [
    {
     "data": {
      "text/plain": [
       "duration  Delay\n",
       "large     0         15207\n",
       "          1         12974\n",
       "medium    0         96946\n",
       "          1         87591\n",
       "small     0        172414\n",
       "          1        133424\n",
       "Name: Delay, dtype: int64"
      ]
     },
     "execution_count": 70,
     "metadata": {},
     "output_type": "execute_result"
    }
   ],
   "source": [
    "b=ar.groupby('duration')['Delay'].value_counts()\n",
    "b"
   ]
  },
  {
   "cell_type": "code",
   "execution_count": 71,
   "id": "76a60f67",
   "metadata": {},
   "outputs": [
    {
     "data": {
      "text/plain": [
       "233989"
      ]
     },
     "execution_count": 71,
     "metadata": {},
     "output_type": "execute_result"
    }
   ],
   "source": [
    "data1=b['medium'][1] + b['small'][1] +b['large'][1]\n",
    "data1"
   ]
  },
  {
   "cell_type": "code",
   "execution_count": 72,
   "id": "fc723824",
   "metadata": {},
   "outputs": [
    {
     "data": {
      "text/plain": [
       "12974"
      ]
     },
     "execution_count": 72,
     "metadata": {},
     "output_type": "execute_result"
    }
   ],
   "source": [
    "data2=b['large'][1]\n",
    "data2"
   ]
  },
  {
   "cell_type": "code",
   "execution_count": 73,
   "id": "a688575d",
   "metadata": {},
   "outputs": [
    {
     "name": "stdout",
     "output_type": "stream",
     "text": [
      "Statistics=1.000, p=1.000\n",
      "duration affect delay (fail to reject H0)\n"
     ]
    }
   ],
   "source": [
    "from scipy.stats import mannwhitneyu\n",
    "stat, p = mannwhitneyu(data1, data2)\n",
    "print('Statistics=%.3f, p=%.3f' % (stat, p))\n",
    "alpha = 0.05\n",
    "if p > alpha:\n",
    " print('duration affect delay (fail to reject H0)')\n",
    "else:\n",
    " print('duration not affect delay (reject H0)')"
   ]
  },
  {
   "cell_type": "markdown",
   "id": "2960f22c",
   "metadata": {},
   "source": [
    "### 6.Find the correlation matrix between the flight delay predictors, create a heatmap to visualize this, and share your findings"
   ]
  },
  {
   "cell_type": "code",
   "execution_count": 74,
   "id": "fda7a982",
   "metadata": {},
   "outputs": [
    {
     "data": {
      "text/plain": [
       "Index(['id_x', 'ident', 'type', 'name', 'latitude_deg', 'longitude_deg',\n",
       "       'elevation_ft', 'continent', 'iso_country', 'iso_region',\n",
       "       'municipality', 'scheduled_service', 'gps_code', 'iata_code',\n",
       "       'local_code', 'home_link', 'wikipedia_link', 'keywords', 'id_y',\n",
       "       'airport_ref', 'airport_ident', 'length_ft', 'width_ft', 'surface',\n",
       "       'lighted', 'closed', 'le_ident', 'le_latitude_deg', 'le_longitude_deg',\n",
       "       'le_elevation_ft', 'le_heading_degT', 'le_displaced_threshold_ft',\n",
       "       'he_ident', 'he_latitude_deg', 'he_longitude_deg', 'he_elevation_ft',\n",
       "       'he_heading_degT', 'he_displaced_threshold_ft'],\n",
       "      dtype='object')"
      ]
     },
     "execution_count": 74,
     "metadata": {},
     "output_type": "execute_result"
    }
   ],
   "source": [
    "df.columns"
   ]
  },
  {
   "cell_type": "code",
   "execution_count": 75,
   "id": "10832c77",
   "metadata": {},
   "outputs": [
    {
     "data": {
      "text/plain": [
       "Index(['id', 'Airline', 'Flight', 'AirportFrom', 'AirportTo', 'DayOfWeek',\n",
       "       'Time', 'Length', 'Delay', 'duration', 'hub'],\n",
       "      dtype='object')"
      ]
     },
     "execution_count": 75,
     "metadata": {},
     "output_type": "execute_result"
    }
   ],
   "source": [
    "ar.columns"
   ]
  },
  {
   "cell_type": "code",
   "execution_count": 76,
   "id": "c594c343",
   "metadata": {},
   "outputs": [],
   "source": [
    "x=ar"
   ]
  },
  {
   "cell_type": "code",
   "execution_count": 77,
   "id": "b18cb04e",
   "metadata": {},
   "outputs": [
    {
     "data": {
      "text/plain": [
       "Index(['id', 'Airline', 'Flight', 'AirportFrom', 'AirportTo', 'DayOfWeek',\n",
       "       'Time', 'Length', 'Delay', 'duration', 'hub'],\n",
       "      dtype='object')"
      ]
     },
     "execution_count": 77,
     "metadata": {},
     "output_type": "execute_result"
    }
   ],
   "source": [
    "x.columns"
   ]
  },
  {
   "cell_type": "code",
   "execution_count": 78,
   "id": "4fb41194",
   "metadata": {},
   "outputs": [
    {
     "data": {
      "text/plain": [
       "<AxesSubplot:>"
      ]
     },
     "execution_count": 78,
     "metadata": {},
     "output_type": "execute_result"
    },
    {
     "data": {
      "image/png": "[encoded data removed]",
      "text/plain": [
       "<Figure size 1080x504 with 2 Axes>"
      ]
     },
     "metadata": {
      "needs_background": "light"
     },
     "output_type": "display_data"
    }
   ],
   "source": [
    "plt.figure(figsize=(15,7))\n",
    "sns.heatmap(ar.corr(),annot=True)"
   ]
  },
  {
   "cell_type": "code",
   "execution_count": 79,
   "id": "372762bb",
   "metadata": {},
   "outputs": [
    {
     "data": {
      "text/plain": [
       "<AxesSubplot:>"
      ]
     },
     "execution_count": 79,
     "metadata": {},
     "output_type": "execute_result"
    },
    {
     "data": {
      "image/png": "[encoded data removed]",
      "text/plain": [
       "<Figure size 432x288 with 2 Axes>"
      ]
     },
     "metadata": {
      "needs_background": "light"
     },
     "output_type": "display_data"
    }
   ],
   "source": [
    "sns.heatmap(df.corr())"
   ]
  },
  {
   "cell_type": "markdown",
   "id": "080ea489",
   "metadata": {},
   "source": [
    "### 1. Use OneHotEncoder and OrdinalEncoder to deal with categorical variables"
   ]
  },
  {
   "cell_type": "code",
   "execution_count": 80,
   "id": "1f4be5f7",
   "metadata": {},
   "outputs": [
    {
     "data": {
      "text/html": [
       "<div>\n",
       "<style scoped>\n",
       "    .dataframe tbody tr th:only-of-type {\n",
       "        vertical-align: middle;\n",
       "    }\n",
       "\n",
       "    .dataframe tbody tr th {\n",
       "        vertical-align: top;\n",
       "    }\n",
       "\n",
       "    .dataframe thead th {\n",
       "        text-align: right;\n",
       "    }\n",
       "</style>\n",
       "<table border=\"1\" class=\"dataframe\">\n",
       "  <thead>\n",
       "    <tr style=\"text-align: right;\">\n",
       "      <th></th>\n",
       "      <th>id</th>\n",
       "      <th>Airline</th>\n",
       "      <th>Flight</th>\n",
       "      <th>AirportFrom</th>\n",
       "      <th>AirportTo</th>\n",
       "      <th>DayOfWeek</th>\n",
       "      <th>Time</th>\n",
       "      <th>Length</th>\n",
       "      <th>Delay</th>\n",
       "      <th>duration</th>\n",
       "      <th>hub</th>\n",
       "    </tr>\n",
       "  </thead>\n",
       "  <tbody>\n",
       "    <tr>\n",
       "      <th>0</th>\n",
       "      <td>1</td>\n",
       "      <td>CO</td>\n",
       "      <td>269</td>\n",
       "      <td>SFO</td>\n",
       "      <td>IAH</td>\n",
       "      <td>3</td>\n",
       "      <td>15</td>\n",
       "      <td>205</td>\n",
       "      <td>1</td>\n",
       "      <td>medium</td>\n",
       "      <td>large hub</td>\n",
       "    </tr>\n",
       "    <tr>\n",
       "      <th>1</th>\n",
       "      <td>2</td>\n",
       "      <td>US</td>\n",
       "      <td>1558</td>\n",
       "      <td>PHX</td>\n",
       "      <td>CLT</td>\n",
       "      <td>3</td>\n",
       "      <td>15</td>\n",
       "      <td>222</td>\n",
       "      <td>1</td>\n",
       "      <td>medium</td>\n",
       "      <td>large hub</td>\n",
       "    </tr>\n",
       "  </tbody>\n",
       "</table>\n",
       "</div>"
      ],
      "text/plain": [
       "   id Airline  Flight AirportFrom AirportTo  DayOfWeek  Time  Length  Delay  \\\n",
       "0   1      CO     269         SFO       IAH          3    15     205      1   \n",
       "1   2      US    1558         PHX       CLT          3    15     222      1   \n",
       "\n",
       "  duration        hub  \n",
       "0   medium  large hub  \n",
       "1   medium  large hub  "
      ]
     },
     "execution_count": 80,
     "metadata": {},
     "output_type": "execute_result"
    }
   ],
   "source": [
    "x.head(2)"
   ]
  },
  {
   "cell_type": "code",
   "execution_count": 81,
   "id": "6bc7e515",
   "metadata": {},
   "outputs": [
    {
     "data": {
      "text/plain": [
       "Index(['id', 'Airline', 'Flight', 'AirportFrom', 'AirportTo', 'DayOfWeek',\n",
       "       'Time', 'Length', 'Delay', 'duration', 'hub'],\n",
       "      dtype='object')"
      ]
     },
     "execution_count": 81,
     "metadata": {},
     "output_type": "execute_result"
    }
   ],
   "source": [
    "x.columns"
   ]
  },
  {
   "cell_type": "code",
   "execution_count": 82,
   "id": "e3b7e6f6",
   "metadata": {},
   "outputs": [],
   "source": [
    "x=x.drop(['id'],axis=1)"
   ]
  },
  {
   "cell_type": "code",
   "execution_count": 83,
   "id": "9eb31110",
   "metadata": {},
   "outputs": [
    {
     "data": {
      "text/plain": [
       "Airline        object\n",
       "Flight          int64\n",
       "AirportFrom    object\n",
       "AirportTo      object\n",
       "DayOfWeek       int64\n",
       "Time            int64\n",
       "Length          int64\n",
       "Delay           int64\n",
       "duration       object\n",
       "hub            object\n",
       "dtype: object"
      ]
     },
     "execution_count": 83,
     "metadata": {},
     "output_type": "execute_result"
    }
   ],
   "source": [
    "x.dtypes"
   ]
  },
  {
   "cell_type": "code",
   "execution_count": 84,
   "id": "478dfaf0",
   "metadata": {},
   "outputs": [],
   "source": [
    "y=x['Delay']"
   ]
  },
  {
   "cell_type": "code",
   "execution_count": 85,
   "id": "b0ccc865",
   "metadata": {},
   "outputs": [],
   "source": [
    "x=x.drop(['Delay'],axis=1)"
   ]
  },
  {
   "cell_type": "code",
   "execution_count": 86,
   "id": "9cc590b9",
   "metadata": {},
   "outputs": [],
   "source": [
    "from sklearn.preprocessing import LabelEncoder\n",
    "from sklearn.preprocessing import OrdinalEncoder"
   ]
  },
  {
   "cell_type": "code",
   "execution_count": 87,
   "id": "ba9901a1",
   "metadata": {},
   "outputs": [
    {
     "data": {
      "text/html": [
       "<div>\n",
       "<style scoped>\n",
       "    .dataframe tbody tr th:only-of-type {\n",
       "        vertical-align: middle;\n",
       "    }\n",
       "\n",
       "    .dataframe tbody tr th {\n",
       "        vertical-align: top;\n",
       "    }\n",
       "\n",
       "    .dataframe thead th {\n",
       "        text-align: right;\n",
       "    }\n",
       "</style>\n",
       "<table border=\"1\" class=\"dataframe\">\n",
       "  <thead>\n",
       "    <tr style=\"text-align: right;\">\n",
       "      <th></th>\n",
       "      <th>Airline</th>\n",
       "      <th>Flight</th>\n",
       "      <th>AirportFrom</th>\n",
       "      <th>AirportTo</th>\n",
       "      <th>DayOfWeek</th>\n",
       "      <th>Time</th>\n",
       "      <th>Length</th>\n",
       "      <th>duration</th>\n",
       "      <th>hub</th>\n",
       "    </tr>\n",
       "  </thead>\n",
       "  <tbody>\n",
       "    <tr>\n",
       "      <th>0</th>\n",
       "      <td>CO</td>\n",
       "      <td>269</td>\n",
       "      <td>SFO</td>\n",
       "      <td>IAH</td>\n",
       "      <td>3</td>\n",
       "      <td>15</td>\n",
       "      <td>205</td>\n",
       "      <td>medium</td>\n",
       "      <td>large hub</td>\n",
       "    </tr>\n",
       "    <tr>\n",
       "      <th>1</th>\n",
       "      <td>US</td>\n",
       "      <td>1558</td>\n",
       "      <td>PHX</td>\n",
       "      <td>CLT</td>\n",
       "      <td>3</td>\n",
       "      <td>15</td>\n",
       "      <td>222</td>\n",
       "      <td>medium</td>\n",
       "      <td>large hub</td>\n",
       "    </tr>\n",
       "    <tr>\n",
       "      <th>2</th>\n",
       "      <td>AA</td>\n",
       "      <td>2400</td>\n",
       "      <td>LAX</td>\n",
       "      <td>DFW</td>\n",
       "      <td>3</td>\n",
       "      <td>20</td>\n",
       "      <td>165</td>\n",
       "      <td>medium</td>\n",
       "      <td>large hub</td>\n",
       "    </tr>\n",
       "    <tr>\n",
       "      <th>3</th>\n",
       "      <td>AA</td>\n",
       "      <td>2466</td>\n",
       "      <td>SFO</td>\n",
       "      <td>DFW</td>\n",
       "      <td>3</td>\n",
       "      <td>20</td>\n",
       "      <td>195</td>\n",
       "      <td>medium</td>\n",
       "      <td>large hub</td>\n",
       "    </tr>\n",
       "    <tr>\n",
       "      <th>4</th>\n",
       "      <td>AS</td>\n",
       "      <td>108</td>\n",
       "      <td>ANC</td>\n",
       "      <td>SEA</td>\n",
       "      <td>3</td>\n",
       "      <td>30</td>\n",
       "      <td>202</td>\n",
       "      <td>medium</td>\n",
       "      <td>medium hub</td>\n",
       "    </tr>\n",
       "    <tr>\n",
       "      <th>...</th>\n",
       "      <td>...</td>\n",
       "      <td>...</td>\n",
       "      <td>...</td>\n",
       "      <td>...</td>\n",
       "      <td>...</td>\n",
       "      <td>...</td>\n",
       "      <td>...</td>\n",
       "      <td>...</td>\n",
       "      <td>...</td>\n",
       "    </tr>\n",
       "    <tr>\n",
       "      <th>518551</th>\n",
       "      <td>B6</td>\n",
       "      <td>717</td>\n",
       "      <td>JFK</td>\n",
       "      <td>SJU</td>\n",
       "      <td>5</td>\n",
       "      <td>1439</td>\n",
       "      <td>220</td>\n",
       "      <td>medium</td>\n",
       "      <td>large hub</td>\n",
       "    </tr>\n",
       "    <tr>\n",
       "      <th>518552</th>\n",
       "      <td>B6</td>\n",
       "      <td>739</td>\n",
       "      <td>JFK</td>\n",
       "      <td>PSE</td>\n",
       "      <td>5</td>\n",
       "      <td>1439</td>\n",
       "      <td>223</td>\n",
       "      <td>medium</td>\n",
       "      <td>large hub</td>\n",
       "    </tr>\n",
       "    <tr>\n",
       "      <th>518553</th>\n",
       "      <td>CO</td>\n",
       "      <td>178</td>\n",
       "      <td>OGG</td>\n",
       "      <td>SNA</td>\n",
       "      <td>5</td>\n",
       "      <td>1439</td>\n",
       "      <td>326</td>\n",
       "      <td>large</td>\n",
       "      <td>medium hub</td>\n",
       "    </tr>\n",
       "    <tr>\n",
       "      <th>518554</th>\n",
       "      <td>UA</td>\n",
       "      <td>78</td>\n",
       "      <td>HNL</td>\n",
       "      <td>SFO</td>\n",
       "      <td>5</td>\n",
       "      <td>1439</td>\n",
       "      <td>313</td>\n",
       "      <td>large</td>\n",
       "      <td>medium hub</td>\n",
       "    </tr>\n",
       "    <tr>\n",
       "      <th>518555</th>\n",
       "      <td>US</td>\n",
       "      <td>1442</td>\n",
       "      <td>LAX</td>\n",
       "      <td>PHL</td>\n",
       "      <td>5</td>\n",
       "      <td>1439</td>\n",
       "      <td>301</td>\n",
       "      <td>large</td>\n",
       "      <td>large hub</td>\n",
       "    </tr>\n",
       "  </tbody>\n",
       "</table>\n",
       "<p>518556 rows × 9 columns</p>\n",
       "</div>"
      ],
      "text/plain": [
       "       Airline  Flight AirportFrom AirportTo  DayOfWeek  Time  Length  \\\n",
       "0           CO     269         SFO       IAH          3    15     205   \n",
       "1           US    1558         PHX       CLT          3    15     222   \n",
       "2           AA    2400         LAX       DFW          3    20     165   \n",
       "3           AA    2466         SFO       DFW          3    20     195   \n",
       "4           AS     108         ANC       SEA          3    30     202   \n",
       "...        ...     ...         ...       ...        ...   ...     ...   \n",
       "518551      B6     717         JFK       SJU          5  1439     220   \n",
       "518552      B6     739         JFK       PSE          5  1439     223   \n",
       "518553      CO     178         OGG       SNA          5  1439     326   \n",
       "518554      UA      78         HNL       SFO          5  1439     313   \n",
       "518555      US    1442         LAX       PHL          5  1439     301   \n",
       "\n",
       "       duration         hub  \n",
       "0        medium   large hub  \n",
       "1        medium   large hub  \n",
       "2        medium   large hub  \n",
       "3        medium   large hub  \n",
       "4        medium  medium hub  \n",
       "...         ...         ...  \n",
       "518551   medium   large hub  \n",
       "518552   medium   large hub  \n",
       "518553    large  medium hub  \n",
       "518554    large  medium hub  \n",
       "518555    large   large hub  \n",
       "\n",
       "[518556 rows x 9 columns]"
      ]
     },
     "execution_count": 87,
     "metadata": {},
     "output_type": "execute_result"
    }
   ],
   "source": [
    "x"
   ]
  },
  {
   "cell_type": "code",
   "execution_count": 88,
   "id": "c95fe6a0",
   "metadata": {},
   "outputs": [],
   "source": [
    "oe = OrdinalEncoder()\n",
    "x = oe.fit_transform(x)"
   ]
  },
  {
   "cell_type": "code",
   "execution_count": 89,
   "id": "b4fcb1dc",
   "metadata": {},
   "outputs": [
    {
     "data": {
      "text/plain": [
       "array([[4.000e+00, 2.670e+02, 2.520e+02, ..., 1.830e+02, 1.000e+00,\n",
       "        0.000e+00],\n",
       "       [1.300e+01, 1.552e+03, 2.160e+02, ..., 2.000e+02, 1.000e+00,\n",
       "        0.000e+00],\n",
       "       [1.000e+00, 2.394e+03, 1.530e+02, ..., 1.430e+02, 1.000e+00,\n",
       "        0.000e+00],\n",
       "       ...,\n",
       "       [4.000e+00, 1.760e+02, 2.020e+02, ..., 3.040e+02, 0.000e+00,\n",
       "        1.000e+00],\n",
       "       [1.200e+01, 7.600e+01, 1.270e+02, ..., 2.910e+02, 0.000e+00,\n",
       "        1.000e+00],\n",
       "       [1.300e+01, 1.436e+03, 1.530e+02, ..., 2.790e+02, 0.000e+00,\n",
       "        0.000e+00]])"
      ]
     },
     "execution_count": 89,
     "metadata": {},
     "output_type": "execute_result"
    }
   ],
   "source": [
    "x"
   ]
  },
  {
   "cell_type": "code",
   "execution_count": 90,
   "id": "6096da64",
   "metadata": {},
   "outputs": [],
   "source": [
    "le = LabelEncoder()\n",
    "y = le.fit_transform(y)"
   ]
  },
  {
   "cell_type": "markdown",
   "id": "0cb5cbb6",
   "metadata": {},
   "source": [
    "### 2. Perform the following model building steps:\n",
    "a. Apply logistic regression (use stochastic gradient descent optimizer) and decision tree \n",
    "model"
   ]
  },
  {
   "cell_type": "code",
   "execution_count": 91,
   "id": "7b5e2f77",
   "metadata": {},
   "outputs": [],
   "source": [
    "from sklearn.model_selection import train_test_split\n",
    "from sklearn.linear_model import SGDClassifier\n",
    "from sklearn.preprocessing import StandardScaler"
   ]
  },
  {
   "cell_type": "code",
   "execution_count": 92,
   "id": "e04688ae",
   "metadata": {},
   "outputs": [],
   "source": [
    "x_train,x_test,y_train,y_test=train_test_split(x,y,test_size=0.1,random_state=1)"
   ]
  },
  {
   "cell_type": "code",
   "execution_count": 93,
   "id": "6f8f26f8",
   "metadata": {},
   "outputs": [],
   "source": [
    "ss=StandardScaler()\n",
    "x_train=ss.fit_transform(x_train)\n",
    "x_test=ss.fit_transform(x_test)"
   ]
  },
  {
   "cell_type": "code",
   "execution_count": 94,
   "id": "ddce40c7",
   "metadata": {},
   "outputs": [],
   "source": [
    "sgd=SGDClassifier(loss='log')  # use logistic regression in sgd."
   ]
  },
  {
   "cell_type": "code",
   "execution_count": 95,
   "id": "c245ab4d",
   "metadata": {},
   "outputs": [
    {
     "data": {
      "text/plain": [
       "0.579453610456396"
      ]
     },
     "execution_count": 95,
     "metadata": {},
     "output_type": "execute_result"
    }
   ],
   "source": [
    "sgd.fit(x_train,y_train)\n",
    "sgd.score(x_train,y_train)"
   ]
  },
  {
   "cell_type": "code",
   "execution_count": 96,
   "id": "8708e63c",
   "metadata": {},
   "outputs": [
    {
     "data": {
      "text/plain": [
       "0.5845610922554767"
      ]
     },
     "execution_count": 96,
     "metadata": {},
     "output_type": "execute_result"
    }
   ],
   "source": [
    "sgd.score(x_test,y_test)"
   ]
  },
  {
   "cell_type": "code",
   "execution_count": 97,
   "id": "ef99cb43",
   "metadata": {},
   "outputs": [],
   "source": [
    "sgd_pred=sgd.predict(x_test)"
   ]
  },
  {
   "cell_type": "code",
   "execution_count": 98,
   "id": "0d7c9aa1",
   "metadata": {},
   "outputs": [
    {
     "name": "stdout",
     "output_type": "stream",
     "text": [
      "0.5845610922554767\n"
     ]
    }
   ],
   "source": [
    "from sklearn.metrics import accuracy_score,mean_absolute_error,mean_squared_error\n",
    "sgd_acc=accuracy_score(y_test,sgd_pred)\n",
    "print(sgd_acc)"
   ]
  },
  {
   "cell_type": "code",
   "execution_count": 99,
   "id": "28d257be",
   "metadata": {},
   "outputs": [],
   "source": [
    "from sklearn.tree import DecisionTreeClassifier  \n",
    "dt=DecisionTreeClassifier()"
   ]
  },
  {
   "cell_type": "code",
   "execution_count": 100,
   "id": "176723ad",
   "metadata": {},
   "outputs": [
    {
     "data": {
      "text/plain": [
       "0.8104649667880865"
      ]
     },
     "execution_count": 100,
     "metadata": {},
     "output_type": "execute_result"
    }
   ],
   "source": [
    "dt.fit(x_train,y_train)\n",
    "dt.score(x_train,y_train)"
   ]
  },
  {
   "cell_type": "code",
   "execution_count": 101,
   "id": "ddf7166d",
   "metadata": {},
   "outputs": [
    {
     "data": {
      "text/plain": [
       "0.6086470225239123"
      ]
     },
     "execution_count": 101,
     "metadata": {},
     "output_type": "execute_result"
    }
   ],
   "source": [
    "dt.score(x_test,y_test)"
   ]
  },
  {
   "cell_type": "code",
   "execution_count": 102,
   "id": "bea2f112",
   "metadata": {},
   "outputs": [
    {
     "name": "stdout",
     "output_type": "stream",
     "text": [
      "0.6086470225239123\n"
     ]
    }
   ],
   "source": [
    "dt_pred=dt.predict(x_test)\n",
    "dt_acc=accuracy_score(y_test,dt_pred)\n",
    "print(dt_acc)"
   ]
  },
  {
   "cell_type": "markdown",
   "id": "02c4483e",
   "metadata": {},
   "source": [
    "### b. Use the stratified five-fold method to build and validate the models"
   ]
  },
  {
   "cell_type": "code",
   "execution_count": 103,
   "id": "6e53ddf2",
   "metadata": {},
   "outputs": [],
   "source": [
    "from sklearn.model_selection import StratifiedKFold\n",
    "from statistics import mean"
   ]
  },
  {
   "cell_type": "code",
   "execution_count": 104,
   "id": "88df16a8",
   "metadata": {},
   "outputs": [],
   "source": [
    "skf = StratifiedKFold(n_splits=10, shuffle=True, random_state=1)\n",
    "lst_accu_stratified = []\n",
    "  \n",
    "for train_index, test_index in skf.split(x, y):\n",
    "    x_train_fold, x_test_fold = x[train_index], x[test_index]\n",
    "    y_train_fold, y_test_fold = y[train_index], y[test_index]\n",
    "    dt.fit(x_train_fold, y_train_fold)\n",
    "    lst_accu_stratified.append(dt.score(x_test_fold, y_test_fold))"
   ]
  },
  {
   "cell_type": "markdown",
   "id": "f626442d",
   "metadata": {},
   "source": [
    "### the final prediction will be based on the voting (majority class by 5 models created using the stratified 5-fold method)"
   ]
  },
  {
   "cell_type": "code",
   "execution_count": 105,
   "id": "088a4088",
   "metadata": {},
   "outputs": [
    {
     "name": "stdout",
     "output_type": "stream",
     "text": [
      "Maximum Accuracy 0.6115203640851589\n",
      "Minimum Accuracy: 0.605245395815254\n",
      "Overall Accuracy: 0.6086999170113087\n"
     ]
    }
   ],
   "source": [
    "print('Maximum Accuracy',max(lst_accu_stratified)) \n",
    "print('Minimum Accuracy:',min(lst_accu_stratified)) \n",
    "print('Overall Accuracy:',mean(lst_accu_stratified))   # mean"
   ]
  },
  {
   "cell_type": "markdown",
   "id": "464a8138",
   "metadata": {},
   "source": [
    "### c.Use RandomizedSearchCV for hyperparameter tuning, and use k-fold for cross\u0002validatio"
   ]
  },
  {
   "cell_type": "code",
   "execution_count": 106,
   "id": "9404e8ea",
   "metadata": {},
   "outputs": [],
   "source": [
    "from sklearn.model_selection import RandomizedSearchCV\n",
    "from sklearn.linear_model import LogisticRegression\n",
    "from scipy.stats import loguniform\n",
    "from sklearn.model_selection import RepeatedStratifiedKFold\n",
    "from scipy.stats import randint"
   ]
  },
  {
   "cell_type": "code",
   "execution_count": 107,
   "id": "61eedf55",
   "metadata": {},
   "outputs": [],
   "source": [
    "param_dist = {\"max_depth\": [3, None],\n",
    "              \"max_features\": randint(1, 9),\n",
    "              \"min_samples_leaf\": randint(1, 9),\n",
    "              \"criterion\": [\"gini\", \"entropy\"]}\n",
    "tree_cv = RandomizedSearchCV(dt, param_dist, cv=5)\n"
   ]
  },
  {
   "cell_type": "code",
   "execution_count": 108,
   "id": "eb7310fd",
   "metadata": {},
   "outputs": [
    {
     "name": "stdout",
     "output_type": "stream",
     "text": [
      "Tuned Decision Tree Parameters: {'criterion': 'gini', 'max_depth': None, 'max_features': 6, 'min_samples_leaf': 4}\n",
      "Best score is 0.6345100623223309\n"
     ]
    }
   ],
   "source": [
    "tree_cv.fit(x,y)\n",
    "print(\"Tuned Decision Tree Parameters: {}\".format(tree_cv.best_params_))\n",
    "print(\"Best score is {}\".format(tree_cv.best_score_))"
   ]
  },
  {
   "cell_type": "code",
   "execution_count": 109,
   "id": "f07834e9",
   "metadata": {},
   "outputs": [],
   "source": [
    "dt1=DecisionTreeClassifier(criterion= 'entropy', max_depth= None, max_features= 4, min_samples_leaf= 3)"
   ]
  },
  {
   "cell_type": "code",
   "execution_count": 110,
   "id": "4b6243dc",
   "metadata": {},
   "outputs": [
    {
     "data": {
      "text/plain": [
       "0.7774566102421255"
      ]
     },
     "execution_count": 110,
     "metadata": {},
     "output_type": "execute_result"
    }
   ],
   "source": [
    "dt1.fit(x_train,y_train)\n",
    "dt1.score(x_train,y_train)"
   ]
  },
  {
   "cell_type": "code",
   "execution_count": 111,
   "id": "45453ac8",
   "metadata": {},
   "outputs": [
    {
     "name": "stdout",
     "output_type": "stream",
     "text": [
      "0.627005553841407\n"
     ]
    }
   ],
   "source": [
    "dt1_pred=dt1.predict(x_test)\n",
    "dt1_acc=accuracy_score(y_test,dt1_pred)\n",
    "print(dt1_acc)"
   ]
  },
  {
   "cell_type": "code",
   "execution_count": 112,
   "id": "5c3844b7",
   "metadata": {},
   "outputs": [
    {
     "data": {
      "text/plain": [
       "array([0.63629088, 0.65556209, 0.63421431, 0.6469227 , 0.61266404])"
      ]
     },
     "execution_count": 112,
     "metadata": {},
     "output_type": "execute_result"
    }
   ],
   "source": [
    " from sklearn.model_selection import cross_val_score\n",
    "    \n",
    "scores = cross_val_score(dt1, x, y, cv=5)\n",
    " scores"
   ]
  },
  {
   "cell_type": "markdown",
   "id": "2dacabd9",
   "metadata": {},
   "source": [
    "### g.Compare the results of logistic regression and decision tree classifie"
   ]
  },
  {
   "cell_type": "code",
   "execution_count": 113,
   "id": "0512753d",
   "metadata": {},
   "outputs": [],
   "source": [
    "from tabulate import tabulate"
   ]
  },
  {
   "cell_type": "code",
   "execution_count": 114,
   "id": "7e61464d",
   "metadata": {},
   "outputs": [
    {
     "name": "stdout",
     "output_type": "stream",
     "text": [
      "+----+---------------------------+------------+-------------+\n",
      "|    | Comparison Matrix         | dt Model   | SGD Model   |\n",
      "|----+---------------------------+------------+-------------|\n",
      "| 0  | Accuracy (Variance Score) | 0.608647   | 0.584561    |\n",
      "+----+---------------------------+------------+-------------+\n"
     ]
    }
   ],
   "source": [
    "model_table = pd.DataFrame(columns = [\"Comparison Matrix\", \"dt Model\", \"SGD Model\"])\n",
    "model_table[\"Comparison Matrix\"] = [\"Accuracy (Variance Score)\"]\n",
    "model_table[\"dt Model\"] = [dt_acc,]\n",
    "model_table[\"SGD Model\"] = [sgd_acc]\n",
    "\n",
    "print(tabulate(model_table, headers = 'keys', tablefmt = 'psql', numalign=\"left\"))"
   ]
  },
  {
   "cell_type": "code",
   "execution_count": 115,
   "id": "f1a29539",
   "metadata": {},
   "outputs": [
    {
     "ename": "ModuleNotFoundError",
     "evalue": "No module named 'xgboost'",
     "output_type": "error",
     "traceback": [
      "\u001b[1;31m---------------------------------------------------------------------------\u001b[0m",
      "\u001b[1;31mModuleNotFoundError\u001b[0m                       Traceback (most recent call last)",
      "Input \u001b[1;32mIn [115]\u001b[0m, in \u001b[0;36m<cell line: 1>\u001b[1;34m()\u001b[0m\n\u001b[1;32m----> 1\u001b[0m \u001b[38;5;28;01mfrom\u001b[39;00m \u001b[38;5;21;01mxgboost\u001b[39;00m \u001b[38;5;28;01mimport\u001b[39;00m XGBClassifier\n",
      "\u001b[1;31mModuleNotFoundError\u001b[0m: No module named 'xgboost'"
     ]
    }
   ],
   "source": [
    "from xgboost import XGBClassifier"
   ]
  },
  {
   "cell_type": "code",
   "execution_count": null,
   "id": "9cac9ee2",
   "metadata": {},
   "outputs": [],
   "source": [
    "xgb=XGBClassifier()"
   ]
  },
  {
   "cell_type": "code",
   "execution_count": null,
   "id": "b641f9f9",
   "metadata": {},
   "outputs": [],
   "source": [
    "xgb.fit(x_train,y_train)\n",
    "xgb.score(x_train,y_train)"
   ]
  },
  {
   "cell_type": "code",
   "execution_count": null,
   "id": "0479c99e",
   "metadata": {},
   "outputs": [],
   "source": [
    "xgb_pred=xgb.predict(x_test)\n",
    "xgb_acc=accuracy_score(y_test,xgb_pred)\n",
    "print(xgb_acc)"
   ]
  },
  {
   "cell_type": "code",
   "execution_count": 117,
   "id": "a28552e5",
   "metadata": {},
   "outputs": [],
   "source": [
    "from sklearn.linear_model import LogisticRegression"
   ]
  },
  {
   "cell_type": "code",
   "execution_count": 118,
   "id": "f1611329",
   "metadata": {},
   "outputs": [],
   "source": [
    "lr=LogisticRegression()"
   ]
  },
  {
   "cell_type": "code",
   "execution_count": 120,
   "id": "7667d101",
   "metadata": {},
   "outputs": [
    {
     "data": {
      "text/plain": [
       "0.5836040282836941"
      ]
     },
     "execution_count": 120,
     "metadata": {},
     "output_type": "execute_result"
    }
   ],
   "source": [
    "lr.fit(x_train,y_train)\n",
    "lr.score(x_train,y_train)"
   ]
  },
  {
   "cell_type": "code",
   "execution_count": 121,
   "id": "cf505985",
   "metadata": {},
   "outputs": [
    {
     "name": "stdout",
     "output_type": "stream",
     "text": [
      "0.5875308546744832\n"
     ]
    }
   ],
   "source": [
    "lr_pred=lr.predict(x_test)\n",
    "lr_acc=accuracy_score(y_test,lr_pred)\n",
    "print(lr_acc)"
   ]
  },
  {
   "cell_type": "code",
   "execution_count": 123,
   "id": "9190b535",
   "metadata": {},
   "outputs": [
    {
     "name": "stdout",
     "output_type": "stream",
     "text": [
      "+----+---------------------------+------------+-------------+-------------+------------+\n",
      "|    | Comparison Matrix         | dt Model   | SGD Model   | dt1 Model   | lr Model   |\n",
      "|----+---------------------------+------------+-------------+-------------+------------|\n",
      "| 0  | Accuracy (Variance Score) | 0.608647   | 0.584561    | 0.587531    | 0.627006   |\n",
      "+----+---------------------------+------------+-------------+-------------+------------+\n"
     ]
    }
   ],
   "source": [
    "model_table = pd.DataFrame(columns = [\"Comparison Matrix\", \"dt Model\", \"SGD Model\",])\n",
    "model_table[\"Comparison Matrix\"] = [\"Accuracy (Variance Score)\"]\n",
    "model_table[\"dt Model\"] = [dt_acc,]\n",
    "model_table[\"SGD Model\"] = [sgd_acc]\n",
    "model_table[\"dt1 Model\"] = [lr_acc]\n",
    "model_table[\"lr Model\"] = [dt1_acc]\n",
    "\n",
    "\n",
    "print(tabulate(model_table, headers = 'keys', tablefmt = 'psql', numalign=\"left\"))"
   ]
  },
  {
   "cell_type": "code",
   "execution_count": null,
   "id": "eed17cf9",
   "metadata": {},
   "outputs": [],
   "source": [
    "#https://public.tableau.com/app/profile/aarthy8395/viz/airline_Aarthy/Story1?publish=yes"
   ]
  }
 ],
 "metadata": {
  "kernelspec": {
   "display_name": "Python 3 (ipykernel)",
   "language": "python",
   "name": "python3"
  },
  "language_info": {
   "codemirror_mode": {
    "name": "ipython",
    "version": 3
   },
   "file_extension": ".py",
   "mimetype": "text/x-python",
   "name": "python",
   "nbconvert_exporter": "python",
   "pygments_lexer": "ipython3",
   "version": "3.9.12"
  }
 },
 "nbformat": 4,
 "nbformat_minor": 5
}
